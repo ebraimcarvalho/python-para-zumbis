{
 "cells": [
  {
   "cell_type": "markdown",
   "metadata": {},
   "source": [
    "\n",
    "# Lista de Exercícios I\n",
    "** Link do drive completo: https://www.dropbox.com/sh/m9wio7ock77yowd/AAAR3ogXRJqhd5Uw3NthvS0Ia?dl=0 **\n",
    "\n",
    "7)\n",
    "Converta uma temperatura digitada em Celsius para Fahrenheit.\n",
    "F = 9*C\n",
    "/5 + 32\n",
    "8)\n",
    "Faça agora o contrário, de Fahrenheit para Celsius.\n",
    "9)\n",
    "Escreva um programa que pergunte a quantidade de km percorridos por um carro alugado pelo\n",
    "usuário, assim como a quantidade de dias pelos quais o carro foi alugado. Calcule o preço a pagar,\n",
    "sabendo que o carro custa R$ 60,00 por dia e R$ 0,15 por km rodado.\n",
    "10)\n",
    "Escreva um programa para\n",
    "calcular a redução do tempo de vida de um fumante. Pergunte a\n",
    "quantidade de cigarros fumados por dia e quantos anos ele já fumou. Considere que um fumante\n",
    "perde 1\n",
    "0 minutos de vida a cada cigarro, calcule quantos dias de vida um fumante perderá. Exiba o\n",
    "total de dias.\n",
    "11)\n",
    "Sabendo que str( ) converte valores numéricos para string, calcule quantos dígitos há em 2 elevado\n",
    "a um milhão."
   ]
  },
  {
   "cell_type": "markdown",
   "metadata": {},
   "source": [
    "### 1) Faça um programa que peça dois números inteiros e imprima a soma desses dois números"
   ]
  },
  {
   "cell_type": "code",
   "execution_count": 1,
   "metadata": {
    "scrolled": true
   },
   "outputs": [
    {
     "name": "stdout",
     "output_type": "stream",
     "text": [
      "N1: 5\n",
      "N2: 2\n",
      "A soma de 5 + 2 é: 7\n"
     ]
    }
   ],
   "source": [
    "n1 = int(input('N1: '))\n",
    "n2 = int(input('N2: '))\n",
    "print(f'A soma de {n1} + {n2} é: {n1+n2}')"
   ]
  },
  {
   "cell_type": "markdown",
   "metadata": {},
   "source": [
    "### 2) Escreva um programa que leia um valor em metros e o exiba convertido em milímetros"
   ]
  },
  {
   "cell_type": "code",
   "execution_count": 5,
   "metadata": {
    "scrolled": true
   },
   "outputs": [
    {
     "name": "stdout",
     "output_type": "stream",
     "text": [
      "Metros: 2\n",
      "2 metros é igual a 2000 milímetros.\n"
     ]
    }
   ],
   "source": [
    "metros = int(input('Metros: '))\n",
    "milimetros = metros * 1000\n",
    "print(f'{metros} metros é igual a {milimetros} milímetros.')"
   ]
  },
  {
   "cell_type": "markdown",
   "metadata": {},
   "source": [
    "### 3) Escreva um programa que leia a quantidade de dias, horas, minutos e segundos do usuário. Calcule o total em segundos."
   ]
  },
  {
   "cell_type": "code",
   "execution_count": 7,
   "metadata": {},
   "outputs": [
    {
     "name": "stdout",
     "output_type": "stream",
     "text": [
      "Dias: 1\n",
      "Horas: 1\n",
      "Minutos: 1\n",
      "Segundos: 1\n",
      "Tempo total em segundos: 90061\n"
     ]
    }
   ],
   "source": [
    "dias = int(input('Dias: '))\n",
    "horas = int(input('Horas: '))\n",
    "minutos = int(input('Minutos: '))\n",
    "segundos = int(input('Segundos: '))\n",
    "total_segundos = (dias * 86400) + (horas * 3600) + (minutos * 60) + segundos\n",
    "print(f'Tempo total em segundos: {total_segundos}')"
   ]
  },
  {
   "cell_type": "markdown",
   "metadata": {},
   "source": [
    "### 4) Faça um programa que calcule o aumento de um salário. Ele deve solicitar o valor do salário e a porcentagem do aumento. Exiba o valor do aumento e do novo salário."
   ]
  },
  {
   "cell_type": "code",
   "execution_count": 9,
   "metadata": {},
   "outputs": [
    {
     "name": "stdout",
     "output_type": "stream",
     "text": [
      "Salário atual: 1000\n",
      "Percentual de aumento: 10\n",
      "O salário novo teve um aumento de 10% e terá o valor de R$1100\n"
     ]
    }
   ],
   "source": [
    "salario_antigo = int(input('Salário atual: '))\n",
    "porcentagem_aumento = int(input('Percentual de aumento: '))\n",
    "salario_novo = salario_antigo + (salario_antigo * porcentagem_aumento / 100)\n",
    "print(f'O salário novo teve um aumento de {porcentagem_aumento}% e terá o valor de R${int(salario_novo)}')"
   ]
  },
  {
   "cell_type": "markdown",
   "metadata": {},
   "source": [
    "### 5) Solicite o preço de uma mercadoria e o percentual de desconto. Exiba o valor do desconto e o preço a pagar."
   ]
  },
  {
   "cell_type": "markdown",
   "metadata": {},
   "source": [
    "### 6) Calcule o tempo de uma viagem de carro. Pergunte a distância a percorrer e a velocidade média esperada para a viagem."
   ]
  },
  {
   "cell_type": "markdown",
   "metadata": {},
   "source": [
    "### 4) Faça um programa que calcule o aumento de um salário. Ele deve solicitar o valor do salário e a porcentagem do aumento. Exiba o valor do aumento e do novo salário."
   ]
  },
  {
   "cell_type": "markdown",
   "metadata": {},
   "source": [
    "### 4) Faça um programa que calcule o aumento de um salário. Ele deve solicitar o valor do salário e a porcentagem do aumento. Exiba o valor do aumento e do novo salário."
   ]
  },
  {
   "cell_type": "markdown",
   "metadata": {},
   "source": [
    "### 4) Faça um programa que calcule o aumento de um salário. Ele deve solicitar o valor do salário e a porcentagem do aumento. Exiba o valor do aumento e do novo salário."
   ]
  },
  {
   "cell_type": "markdown",
   "metadata": {},
   "source": [
    "### 4) Faça um programa que calcule o aumento de um salário. Ele deve solicitar o valor do salário e a porcentagem do aumento. Exiba o valor do aumento e do novo salário."
   ]
  },
  {
   "cell_type": "markdown",
   "metadata": {},
   "source": [
    "### 4) Faça um programa que calcule o aumento de um salário. Ele deve solicitar o valor do salário e a porcentagem do aumento. Exiba o valor do aumento e do novo salário."
   ]
  }
 ],
 "metadata": {
  "kernelspec": {
   "display_name": "Python 3",
   "language": "python",
   "name": "python3"
  },
  "language_info": {
   "codemirror_mode": {
    "name": "ipython",
    "version": 3
   },
   "file_extension": ".py",
   "mimetype": "text/x-python",
   "name": "python",
   "nbconvert_exporter": "python",
   "pygments_lexer": "ipython3",
   "version": "3.8.3"
  }
 },
 "nbformat": 4,
 "nbformat_minor": 4
}
