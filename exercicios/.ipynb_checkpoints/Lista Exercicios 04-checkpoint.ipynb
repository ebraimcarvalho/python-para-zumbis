{
 "cells": [
  {
   "cell_type": "markdown",
   "metadata": {},
   "source": [
    "\n",
    "# Lista de Exercícios 4\n",
    "*Link do drive completo: https://www.dropbox.com/sh/m9wio7ock77yowd/AAAR3ogXRJqhd5Uw3NthvS0Ia?dl=0*"
   ]
  },
  {
   "cell_type": "markdown",
   "metadata": {},
   "source": [
    "### 1) Sorteie 10 inteiros entre 1 e 100 para uma lista e descubra o maior e o menor valor, sem usar as funções max e min."
   ]
  },
  {
   "cell_type": "code",
   "execution_count": 50,
   "metadata": {
    "scrolled": true
   },
   "outputs": [
    {
     "name": "stdout",
     "output_type": "stream",
     "text": [
      "Vetor:  [69, 43, 14, 60, 63, 45, 0, 99, 81, 67]\n",
      "Maior:  99\n",
      "Menor:  0\n"
     ]
    }
   ],
   "source": [
    "import random\n",
    "lista = random.sample(range(100), 10)\n",
    "maior = menor = lista[0]\n",
    "for x in lista[1:]:\n",
    "    if x > maior: maior = x\n",
    "    if x < menor: menor = x\n",
    "print('Vetor: ', lista)\n",
    "print('Maior: ', maior)\n",
    "print('Menor: ', menor)"
   ]
  },
  {
   "cell_type": "markdown",
   "metadata": {},
   "source": [
    "### 2) Sorteie 20 inteiros entre 1 e 100 numa lista. Armazene os números pares na lista PAR e os números ímpares na lista IMPAR. Imprima as três listas."
   ]
  },
  {
   "cell_type": "code",
   "execution_count": 54,
   "metadata": {
    "scrolled": true
   },
   "outputs": [
    {
     "name": "stdout",
     "output_type": "stream",
     "text": [
      "Lista completa:  [83, 85, 56, 78, 25, 3, 90, 35, 95, 5, 86, 51, 93, 72, 87, 94, 88, 21, 24, 53]\n",
      "Pares:  [56, 78, 90, 86, 72, 94, 88, 24]\n",
      "Ímpares:  [83, 85, 25, 3, 35, 95, 5, 51, 93, 87, 21, 53]\n"
     ]
    }
   ],
   "source": [
    "lista_20 = random.sample(range(1, 101), 20)\n",
    "pares = []\n",
    "impares = []\n",
    "for numero in lista_20:\n",
    "    if numero % 2 == 0:\n",
    "        pares.append(numero)\n",
    "    else:\n",
    "        impares.append(numero)\n",
    "print('Lista completa: ', lista_20)\n",
    "print('Pares: ', pares)\n",
    "print('Ímpares: ', impares)"
   ]
  },
  {
   "cell_type": "code",
   "execution_count": 55,
   "metadata": {},
   "outputs": [
    {
     "name": "stdout",
     "output_type": "stream",
     "text": [
      "Pares:  [56, 78, 90, 86, 72, 94, 88, 24]\n",
      "Ímpares:  [83, 85, 25, 3, 35, 95, 5, 51, 93, 87, 21, 53]\n"
     ]
    }
   ],
   "source": [
    "pares_2 = [x for x in lista_20 if x % 2 == 0]\n",
    "impares_2 = [x for x in lista_20 if x % 2 != 0]\n",
    "print('Pares: ', pares)\n",
    "print('Ímpares: ', impares)"
   ]
  },
  {
   "cell_type": "code",
   "execution_count": null,
   "metadata": {},
   "outputs": [],
   "source": []
  },
  {
   "cell_type": "markdown",
   "metadata": {},
   "source": [
    "### 3) Faça um programa que crie dois vetores com 10 elementos aleatórios entre 1 e 100. Gere um terceiro vetor de 20 elementos, cujos valores deverão ser compostos pelos elementos intercalados dos dois outros vetores. Imprima os três vetores.\n"
   ]
  },
  {
   "cell_type": "code",
   "execution_count": 18,
   "metadata": {},
   "outputs": [
    {
     "name": "stdout",
     "output_type": "stream",
     "text": [
      "Lista 1:  [24, 59, 22, 78, 64, 97, 11, 79, 29, 17]\n",
      "Lista 2:  [10, 94, 25, 3, 97, 34, 83, 33, 22, 81]\n",
      "Lista 3:  [24, 10, 59, 94, 22, 25, 78, 3, 64, 97, 97, 34, 11, 83, 79, 33, 29, 22, 17, 81]\n"
     ]
    }
   ],
   "source": [
    "lista1 = random.sample(range(1, 101), 10)\n",
    "lista2 = random.sample(range(1, 101), 10)\n",
    "vetor = []\n",
    "i = 0\n",
    "while i < 10:\n",
    "    vetor.append(lista1[i])\n",
    "    vetor.append(lista2[i])\n",
    "    i += 1\n",
    "print('Lista 1: ', lista1)\n",
    "print('Lista 2: ', lista2)\n",
    "print('Lista 3: ', vetor)"
   ]
  },
  {
   "cell_type": "markdown",
   "metadata": {},
   "source": [
    "### 4) Seja o statement sobre diversidade: \n",
    "“\n",
    "The Python Software Foundation and the global Python\n",
    "community welcome and encou\n",
    "rage participation by everyone. Our community is based on\n",
    "mutual respect, tolerance, and encouragement, and we are working to help each other live up\n",
    "to these principles. We want our community to be more diverse: whoever you are, and\n",
    "whatever your backgrou\n",
    "nd, we welcome you.”\n",
    ".\n",
    "\n",
    "#### Gere uma lista de palavras deste texto com split(), a seguir crie uma lista com as palavras que começam ou terminam com uma das letras “python”. Imprima a lista resultante. Não se esqueça de remover antes os caracteres especiais e cuidado com maiúsculas e minúsculas."
   ]
  },
  {
   "cell_type": "code",
   "execution_count": 56,
   "metadata": {},
   "outputs": [
    {
     "name": "stdout",
     "output_type": "stream",
     "text": [
      "['The', 'Python', 'Foundation', 'the', 'Python', 'community', 'participation', 'by', 'Our', 'community', 'on', 'respect', 'tolerance', 'encouragement', 'to', 'help', 'each', 'other', 'up', 'to', 'these', 'principles', 'want', 'our', 'community', 'to', 'you', 'your', 'nd', 'you']\n"
     ]
    }
   ],
   "source": [
    "texto = \"\"\"The Python Software Foundation and the global Python community welcome and encou rage participation by everyone. Our community is based on mutual respect, tolerance, and encouragement, and we are working to help each other live up to these principles. We want our community to be more diverse: whoever you are, and whatever your backgrou nd, we welcome you.\"\"\"\n",
    "lista_texto = texto.replace(',', '').replace('.', '').split()\n",
    "lista_retorno = []\n",
    "for palavra in lista_texto:\n",
    "    if palavra[0] in 'pythonPYTHON' or palavra[-1] in 'pythonPYTHON':\n",
    "        lista_retorno.append(palavra)\n",
    "print(lista_retorno)"
   ]
  },
  {
   "cell_type": "code",
   "execution_count": 57,
   "metadata": {},
   "outputs": [
    {
     "name": "stdout",
     "output_type": "stream",
     "text": [
      "['The', 'Python', 'Foundation', 'the', 'Python', 'community', 'participation', 'by', 'Our', 'community', 'on', 'respect', 'tolerance', 'encouragement', 'to', 'help', 'each', 'other', 'up', 'to', 'these', 'principles', 'want', 'our', 'community', 'to', 'you', 'your', 'nd', 'you']\n"
     ]
    }
   ],
   "source": [
    "lista_retorno2 = [x for x in lista_texto if x[0] in 'pythonPYTHON' or x[-1] in 'pythonPYTHON']\n",
    "print(lista_retorno2)"
   ]
  },
  {
   "cell_type": "markdown",
   "metadata": {},
   "source": [
    "### 5) Seja o mesmo texto acima “splitado”. \n",
    "#### Calcule quantas palavras possuem uma das letras “python” e que tenham mais de 4 caracteres. Não se esqueça de transformar maiúsculas para minúsculas e de remover antes os caracteres especiais.\n"
   ]
  },
  {
   "cell_type": "code",
   "execution_count": 64,
   "metadata": {},
   "outputs": [
    {
     "name": "stdout",
     "output_type": "stream",
     "text": [
      "['Python', 'Software', 'Foundation', 'global', 'Python', 'community', 'welcome', 'encou', 'participation', 'everyone', 'community', 'mutual', 'respect', 'tolerance', 'encouragement', 'working', 'other', 'these', 'principles', 'community', 'whoever', 'whatever', 'backgrou', 'welcome']\n",
      "24\n"
     ]
    }
   ],
   "source": [
    "def contem_python(palavra):\n",
    "    for letra in palavra:\n",
    "        if letra in 'pythonPYTHON':\n",
    "            return True\n",
    "    return False\n",
    "\n",
    "result = []\n",
    "for palavra in lista_texto:\n",
    "    if contem_python(palavra) and len(palavra) > 4: \n",
    "        result.append(palavra)\n",
    "\n",
    "print(result)\n",
    "print(len(result))"
   ]
  },
  {
   "cell_type": "code",
   "execution_count": 63,
   "metadata": {},
   "outputs": [
    {
     "name": "stdout",
     "output_type": "stream",
     "text": [
      "['Python', 'Software', 'Foundation', 'global', 'Python', 'community', 'welcome', 'encou', 'participation', 'everyone', 'community', 'mutual', 'respect', 'tolerance', 'encouragement', 'working', 'other', 'these', 'principles', 'community', 'whoever', 'whatever', 'backgrou', 'welcome']\n",
      "24\n"
     ]
    }
   ],
   "source": [
    "result2 = [x for x in lista_texto if contem_python(x) and len(x) > 4]\n",
    "print(result2)\n",
    "print(len(result2))"
   ]
  }
 ],
 "metadata": {
  "kernelspec": {
   "display_name": "Python 3",
   "language": "python",
   "name": "python3"
  },
  "language_info": {
   "codemirror_mode": {
    "name": "ipython",
    "version": 3
   },
   "file_extension": ".py",
   "mimetype": "text/x-python",
   "name": "python",
   "nbconvert_exporter": "python",
   "pygments_lexer": "ipython3",
   "version": "3.8.3"
  }
 },
 "nbformat": 4,
 "nbformat_minor": 4
}
