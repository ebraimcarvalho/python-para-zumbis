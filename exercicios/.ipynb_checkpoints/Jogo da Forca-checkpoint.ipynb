{
 "cells": [
  {
   "cell_type": "markdown",
   "metadata": {},
   "source": [
    "# Jogo da Forca\n",
    "*Link do drive completo: https://www.dropbox.com/sh/m9wio7ock77yowd/AAAR3ogXRJqhd5Uw3NthvS0Ia?dl=0*"
   ]
  },
  {
   "cell_type": "code",
   "execution_count": 16,
   "metadata": {},
   "outputs": [
    {
     "name": "stdout",
     "output_type": "stream",
     "text": [
      "amazonia\n"
     ]
    }
   ],
   "source": [
    "# Cria variavel para receber os desenhos da forca em ordem do inicio para o fim do jogo\n",
    "forca = ['''\n",
    "  +------+\n",
    "         |\n",
    "         |\n",
    "         |\n",
    "         |\n",
    "         |\n",
    "+--------+ ''', '''\n",
    "  +------+\n",
    "  |      |\n",
    "         |\n",
    "         |\n",
    "         |\n",
    "         |\n",
    "+--------+ ''', '''\n",
    "  +------+\n",
    "  |      |\n",
    "  o      |\n",
    "         |\n",
    "         |\n",
    "         |\n",
    "+--------+ ''', '''\n",
    "  +------+\n",
    "  |      |\n",
    "  o      |\n",
    "  |      |\n",
    "         |\n",
    "         |\n",
    "+--------+ ''', '''\n",
    "  +------+\n",
    "  |      |\n",
    "  o      |\n",
    " /|      |\n",
    "         |\n",
    "         |\n",
    "+--------+ ''', '''\n",
    "  +------+\n",
    "  |      |\n",
    "  o      |\n",
    " /|\\     |\n",
    "         |\n",
    "         |\n",
    "+--------+ ''', '''\n",
    "  +------+\n",
    "  |      |\n",
    "  o      |\n",
    " /|\\     |\n",
    " /       |\n",
    "         |\n",
    "+--------+ ''', '''\n",
    "  +------+\n",
    "  |      |\n",
    "  o      |\n",
    " /|\\     |\n",
    " / \\     |\n",
    "         |\n",
    "+--------+ ''']\n",
    "\n",
    "# Variável para receber as letras erradas e as certas\n",
    "certas = erradas = ''\n",
    "\n",
    "# Importa lib para fazer requisição url do dicionario txt e armazena na variavel palavras, que é uma lista\n",
    "import requests\n",
    "url = 'https://www.ime.usp.br/~pf/dicios/br-sem-acentos.txt'\n",
    "palavras = requests.get(url).text.lower().split()\n",
    "print(palavras[54])"
   ]
  },
  {
   "cell_type": "code",
   "execution_count": 8,
   "metadata": {},
   "outputs": [
    {
     "name": "stdout",
     "output_type": "stream",
     "text": [
      "esborracharei\n"
     ]
    }
   ],
   "source": [
    "# Importa lib para escolher randomicamente uma palavra na lista do dicionario palavras\n",
    "from random import choice\n",
    "def escolhe(): return choice(palavras)\n",
    "\n",
    "sorteada = escolhe()\n",
    "\n",
    "print(sorteada)"
   ]
  },
  {
   "cell_type": "code",
   "execution_count": 9,
   "metadata": {},
   "outputs": [
    {
     "name": "stdout",
     "output_type": "stream",
     "text": [
      "\n",
      "  +------+\n",
      "         |\n",
      "         |\n",
      "         |\n",
      "         |\n",
      "         |\n",
      "+--------+ \n",
      "_ _ _ _ _ _ _ _ _ _ _ _ _ \n"
     ]
    }
   ],
   "source": [
    "# Print na tela o desenho da forca e a atual situação da palavra no jogo\n",
    "def desenha():\n",
    "    print(forca[len(erradas)])\n",
    "    for c in sorteada:\n",
    "        print(c if c in certas else '_', end = ' ')\n",
    "    print()\n",
    "desenha()"
   ]
  },
  {
   "cell_type": "code",
   "execution_count": 17,
   "metadata": {},
   "outputs": [],
   "source": [
    "# Função para validar chute do jogador, não pode ser repetida, não pode caracter inválido ou mais de 1 caracter\n",
    "# Importa Lib para validação de caracter\n",
    "from string import digits, punctuation\n",
    "\n",
    "def chute(letras):\n",
    "    while True:\n",
    "        x = input('Digite uma letra: ').lower()\n",
    "        if x in letras: print('Repetiu a letra!')\n",
    "        elif x in digits + punctuation: print('Caracter inválido')\n",
    "        elif len(x) != 1: print('Permitido apenas uma letra')\n",
    "        else: return x\n"
   ]
  },
  {
   "cell_type": "code",
   "execution_count": null,
   "metadata": {},
   "outputs": [],
   "source": [
    "# Função para verificar se quer jogar novamente\n",
    "def jogar_novamente():\n",
    "    return input('Deseja Jogar novamente? S/N ').lower() == 's'\n",
    "\n",
    "# Função para verificar se ganhou\n",
    "def ganhou():\n",
    "    return set(sorteada) == set(certas)"
   ]
  },
  {
   "cell_type": "code",
   "execution_count": null,
   "metadata": {},
   "outputs": [
    {
     "name": "stdout",
     "output_type": "stream",
     "text": [
      "\n",
      "  +------+\n",
      "         |\n",
      "         |\n",
      "         |\n",
      "         |\n",
      "         |\n",
      "+--------+ \n",
      "_ _ _ _ _ _ _ _ _ _ _ \n",
      "Digite uma letra: a\n",
      "\n",
      "  +------+\n",
      "         |\n",
      "         |\n",
      "         |\n",
      "         |\n",
      "         |\n",
      "+--------+ \n",
      "a _ _ _ _ _ _ a _ _ _ \n",
      "Digite uma letra: e\n",
      "\n",
      "  +------+\n",
      "  |      |\n",
      "         |\n",
      "         |\n",
      "         |\n",
      "         |\n",
      "+--------+ \n",
      "a _ _ _ _ _ _ a _ _ _ \n",
      "Digite uma letra: i\n",
      "\n",
      "  +------+\n",
      "  |      |\n",
      "         |\n",
      "         |\n",
      "         |\n",
      "         |\n",
      "+--------+ \n",
      "a _ i _ i _ _ a _ _ _ \n",
      "Digite uma letra: o\n",
      "\n",
      "  +------+\n",
      "  |      |\n",
      "         |\n",
      "         |\n",
      "         |\n",
      "         |\n",
      "+--------+ \n",
      "a _ i _ i o _ a _ o _ \n",
      "Digite uma letra: c\n",
      "\n",
      "  +------+\n",
      "  |      |\n",
      "         |\n",
      "         |\n",
      "         |\n",
      "         |\n",
      "+--------+ \n",
      "a _ i c i o _ a _ o _ \n",
      "Digite uma letra: d\n",
      "\n",
      "  +------+\n",
      "  |      |\n",
      "         |\n",
      "         |\n",
      "         |\n",
      "         |\n",
      "+--------+ \n",
      "a d i c i o _ a d o _ \n",
      "Digite uma letra: n\n",
      "\n",
      "  +------+\n",
      "  |      |\n",
      "         |\n",
      "         |\n",
      "         |\n",
      "         |\n",
      "+--------+ \n",
      "a d i c i o n a d o _ \n",
      "Digite uma letra: r\n",
      "\n",
      "  +------+\n",
      "  |      |\n",
      "  o      |\n",
      "         |\n",
      "         |\n",
      "         |\n",
      "+--------+ \n",
      "a d i c i o n a d o _ \n",
      "Digite uma letra: s\n",
      "Parabéns! Você acertou a palavra adicionados\n"
     ]
    }
   ],
   "source": [
    "# Início do jogo\n",
    "while True:\n",
    "    desenha()\n",
    "    x = chute(certas + erradas)\n",
    "    if x in sorteada: certas = certas + x\n",
    "    else: erradas = erradas + x\n",
    "    \n",
    "    if len(erradas) == len(forca):\n",
    "        print(f'GAME OVER, a palavra sorteada era {sorteada}')\n",
    "        if jogar_novamente():\n",
    "            certas = erradas = ''\n",
    "            sorteada = escolhe()\n",
    "        else: break\n",
    "    elif ganhou():\n",
    "        print(f'Parabéns! Você acertou a palavra {sorteada}')\n",
    "        if jogar_novamente():\n",
    "            certas = erradas = ''\n",
    "            sorteada = escolhe()\n",
    "        else: break"
   ]
  }
 ],
 "metadata": {
  "kernelspec": {
   "display_name": "Python 3",
   "language": "python",
   "name": "python3"
  },
  "language_info": {
   "codemirror_mode": {
    "name": "ipython",
    "version": 3
   },
   "file_extension": ".py",
   "mimetype": "text/x-python",
   "name": "python",
   "nbconvert_exporter": "python",
   "pygments_lexer": "ipython3",
   "version": "3.8.3"
  }
 },
 "nbformat": 4,
 "nbformat_minor": 4
}
