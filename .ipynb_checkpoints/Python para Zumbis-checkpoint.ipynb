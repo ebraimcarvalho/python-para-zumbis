{
 "cells": [
  {
   "cell_type": "code",
   "execution_count": 28,
   "metadata": {},
   "outputs": [
    {
     "name": "stdout",
     "output_type": "stream",
     "text": [
      "Hello World!!\n"
     ]
    }
   ],
   "source": [
    "print('Hello World!!')"
   ]
  },
  {
   "cell_type": "code",
   "execution_count": 29,
   "metadata": {},
   "outputs": [
    {
     "data": {
      "text/plain": [
       "'Ebraim'"
      ]
     },
     "execution_count": 29,
     "metadata": {},
     "output_type": "execute_result"
    }
   ],
   "source": [
    "name = 'Ebraim'\n",
    "name"
   ]
  },
  {
   "cell_type": "code",
   "execution_count": 30,
   "metadata": {},
   "outputs": [
    {
     "name": "stdout",
     "output_type": "stream",
     "text": [
      "Meu nome é Ebraim\n"
     ]
    }
   ],
   "source": [
    "print(f'Meu nome é {name}')"
   ]
  },
  {
   "cell_type": "code",
   "execution_count": 1,
   "metadata": {},
   "outputs": [
    {
     "name": "stdout",
     "output_type": "stream",
     "text": [
      "The Zen of Python, by Tim Peters\n",
      "\n",
      "Beautiful is better than ugly.\n",
      "Explicit is better than implicit.\n",
      "Simple is better than complex.\n",
      "Complex is better than complicated.\n",
      "Flat is better than nested.\n",
      "Sparse is better than dense.\n",
      "Readability counts.\n",
      "Special cases aren't special enough to break the rules.\n",
      "Although practicality beats purity.\n",
      "Errors should never pass silently.\n",
      "Unless explicitly silenced.\n",
      "In the face of ambiguity, refuse the temptation to guess.\n",
      "There should be one-- and preferably only one --obvious way to do it.\n",
      "Although that way may not be obvious at first unless you're Dutch.\n",
      "Now is better than never.\n",
      "Although never is often better than *right* now.\n",
      "If the implementation is hard to explain, it's a bad idea.\n",
      "If the implementation is easy to explain, it may be a good idea.\n",
      "Namespaces are one honking great idea -- let's do more of those!\n"
     ]
    }
   ],
   "source": [
    "import this"
   ]
  },
  {
   "cell_type": "code",
   "execution_count": 32,
   "metadata": {},
   "outputs": [
    {
     "data": {
      "text/plain": [
       "'/home/talita/Documents/TI/DATA-SCIENCE/jupyter-notebook/python-para-zumbis'"
      ]
     },
     "execution_count": 32,
     "metadata": {},
     "output_type": "execute_result"
    }
   ],
   "source": [
    "%pwd"
   ]
  },
  {
   "cell_type": "code",
   "execution_count": 33,
   "metadata": {},
   "outputs": [],
   "source": [
    "%matplotlib inline"
   ]
  },
  {
   "cell_type": "code",
   "execution_count": 34,
   "metadata": {},
   "outputs": [
    {
     "data": {
      "image/png": "[encoded data removed]",
      "text/plain": [
       "<Figure size 432x288 with 1 Axes>"
      ]
     },
     "metadata": {
      "needs_background": "light"
     },
     "output_type": "display_data"
    }
   ],
   "source": [
    "\"\"\"\n",
    "Simple demo of a scatter plot.\n",
    "\"\"\"\n",
    "import numpy as np\n",
    "import matplotlib.pyplot as plt\n",
    "\n",
    "N = 50\n",
    "x = np.random.rand(N)\n",
    "y = np.random.rand(N)\n",
    "colors = np.random.rand(N)\n",
    "area = np.pi * (15 * np.random.rand(N)) ** 2\n",
    "\n",
    "plt.scatter(x, y, s=area, c=colors, alpha=0.5)\n",
    "plt.show()"
   ]
  },
  {
   "cell_type": "markdown",
   "metadata": {},
   "source": [
    "# This is a simple example\n",
    "\n",
    "## Try it\n",
    "\n",
    "*Name:*\n",
    "\n",
    "**Phone:**\n",
    "\n",
    "- list 1\n",
    "- list 2"
   ]
  },
  {
   "cell_type": "code",
   "execution_count": 36,
   "metadata": {},
   "outputs": [
    {
     "data": {
      "application/json": {
       "cell": {
        "!": "OSMagics",
        "HTML": "Other",
        "SVG": "Other",
        "bash": "Other",
        "capture": "ExecutionMagics",
        "debug": "ExecutionMagics",
        "file": "Other",
        "html": "DisplayMagics",
        "javascript": "DisplayMagics",
        "js": "DisplayMagics",
        "latex": "DisplayMagics",
        "markdown": "DisplayMagics",
        "perl": "Other",
        "prun": "ExecutionMagics",
        "pypy": "Other",
        "python": "Other",
        "python2": "Other",
        "python3": "Other",
        "ruby": "Other",
        "script": "ScriptMagics",
        "sh": "Other",
        "svg": "DisplayMagics",
        "sx": "OSMagics",
        "system": "OSMagics",
        "time": "ExecutionMagics",
        "timeit": "ExecutionMagics",
        "writefile": "OSMagics"
       },
       "line": {
        "alias": "OSMagics",
        "alias_magic": "BasicMagics",
        "autoawait": "AsyncMagics",
        "autocall": "AutoMagics",
        "automagic": "AutoMagics",
        "autosave": "KernelMagics",
        "bookmark": "OSMagics",
        "cat": "Other",
        "cd": "OSMagics",
        "clear": "KernelMagics",
        "colors": "BasicMagics",
        "conda": "PackagingMagics",
        "config": "ConfigMagics",
        "connect_info": "KernelMagics",
        "cp": "Other",
        "debug": "ExecutionMagics",
        "dhist": "OSMagics",
        "dirs": "OSMagics",
        "doctest_mode": "BasicMagics",
        "ed": "Other",
        "edit": "KernelMagics",
        "env": "OSMagics",
        "gui": "BasicMagics",
        "hist": "Other",
        "history": "HistoryMagics",
        "killbgscripts": "ScriptMagics",
        "ldir": "Other",
        "less": "KernelMagics",
        "lf": "Other",
        "lk": "Other",
        "ll": "Other",
        "load": "CodeMagics",
        "load_ext": "ExtensionMagics",
        "loadpy": "CodeMagics",
        "logoff": "LoggingMagics",
        "logon": "LoggingMagics",
        "logstart": "LoggingMagics",
        "logstate": "LoggingMagics",
        "logstop": "LoggingMagics",
        "ls": "Other",
        "lsmagic": "BasicMagics",
        "lx": "Other",
        "macro": "ExecutionMagics",
        "magic": "BasicMagics",
        "man": "KernelMagics",
        "matplotlib": "PylabMagics",
        "mkdir": "Other",
        "more": "KernelMagics",
        "mv": "Other",
        "notebook": "BasicMagics",
        "page": "BasicMagics",
        "pastebin": "CodeMagics",
        "pdb": "ExecutionMagics",
        "pdef": "NamespaceMagics",
        "pdoc": "NamespaceMagics",
        "pfile": "NamespaceMagics",
        "pinfo": "NamespaceMagics",
        "pinfo2": "NamespaceMagics",
        "pip": "PackagingMagics",
        "popd": "OSMagics",
        "pprint": "BasicMagics",
        "precision": "BasicMagics",
        "prun": "ExecutionMagics",
        "psearch": "NamespaceMagics",
        "psource": "NamespaceMagics",
        "pushd": "OSMagics",
        "pwd": "OSMagics",
        "pycat": "OSMagics",
        "pylab": "PylabMagics",
        "qtconsole": "KernelMagics",
        "quickref": "BasicMagics",
        "recall": "HistoryMagics",
        "rehashx": "OSMagics",
        "reload_ext": "ExtensionMagics",
        "rep": "Other",
        "rerun": "HistoryMagics",
        "reset": "NamespaceMagics",
        "reset_selective": "NamespaceMagics",
        "rm": "Other",
        "rmdir": "Other",
        "run": "ExecutionMagics",
        "save": "CodeMagics",
        "sc": "OSMagics",
        "set_env": "OSMagics",
        "store": "StoreMagics",
        "sx": "OSMagics",
        "system": "OSMagics",
        "tb": "ExecutionMagics",
        "time": "ExecutionMagics",
        "timeit": "ExecutionMagics",
        "unalias": "OSMagics",
        "unload_ext": "ExtensionMagics",
        "who": "NamespaceMagics",
        "who_ls": "NamespaceMagics",
        "whos": "NamespaceMagics",
        "xdel": "NamespaceMagics",
        "xmode": "BasicMagics"
       }
      },
      "text/plain": [
       "Available line magics:\n",
       "%alias  %alias_magic  %autoawait  %autocall  %automagic  %autosave  %bookmark  %cat  %cd  %clear  %colors  %conda  %config  %connect_info  %cp  %debug  %dhist  %dirs  %doctest_mode  %ed  %edit  %env  %gui  %hist  %history  %killbgscripts  %ldir  %less  %lf  %lk  %ll  %load  %load_ext  %loadpy  %logoff  %logon  %logstart  %logstate  %logstop  %ls  %lsmagic  %lx  %macro  %magic  %man  %matplotlib  %mkdir  %more  %mv  %notebook  %page  %pastebin  %pdb  %pdef  %pdoc  %pfile  %pinfo  %pinfo2  %pip  %popd  %pprint  %precision  %prun  %psearch  %psource  %pushd  %pwd  %pycat  %pylab  %qtconsole  %quickref  %recall  %rehashx  %reload_ext  %rep  %rerun  %reset  %reset_selective  %rm  %rmdir  %run  %save  %sc  %set_env  %store  %sx  %system  %tb  %time  %timeit  %unalias  %unload_ext  %who  %who_ls  %whos  %xdel  %xmode\n",
       "\n",
       "Available cell magics:\n",
       "%%!  %%HTML  %%SVG  %%bash  %%capture  %%debug  %%file  %%html  %%javascript  %%js  %%latex  %%markdown  %%perl  %%prun  %%pypy  %%python  %%python2  %%python3  %%ruby  %%script  %%sh  %%svg  %%sx  %%system  %%time  %%timeit  %%writefile\n",
       "\n",
       "Automagic is ON, % prefix IS NOT needed for line magics."
      ]
     },
     "execution_count": 36,
     "metadata": {},
     "output_type": "execute_result"
    }
   ],
   "source": [
    "%lsmagic"
   ]
  },
  {
   "cell_type": "code",
   "execution_count": 45,
   "metadata": {},
   "outputs": [
    {
     "name": "stdout",
     "output_type": "stream",
     "text": [
      "Primeiro valor: 4\n",
      "Segundo valor: 5\n",
      "O segundo número: 5, é maior que o primeiro: 4\n"
     ]
    }
   ],
   "source": [
    "a = int(input('Primeiro valor: '))\n",
    "b = int(input('Segundo valor: '))\n",
    "if a > b:\n",
    "    print(f'O primeiro número: {a}, é maior que o segundo: {b}')\n",
    "if b > a:\n",
    "    print(f'O segundo número: {b}, é maior que o primeiro: {a}')\n",
    "if a == b:\n",
    "    print('Os dois valores são iguais.')"
   ]
  },
  {
   "cell_type": "code",
   "execution_count": 55,
   "metadata": {},
   "outputs": [
    {
     "name": "stdout",
     "output_type": "stream",
     "text": [
      "Digite a idade do seu carro: 4\n",
      "Seu carro é velho!\n"
     ]
    }
   ],
   "source": [
    "idade_carro = int(input('Digite a idade do seu carro: '))\n",
    "if idade_carro <= 3:\n",
    "    print('Seu carro é novo!')\n",
    "else:\n",
    "    print('Seu carro é velho!')"
   ]
  },
  {
   "cell_type": "code",
   "execution_count": 1,
   "metadata": {},
   "outputs": [
    {
     "name": "stdout",
     "output_type": "stream",
     "text": [
      "Qual a velocidade do carro? 120\n",
      "O valor da multa será de R$50.00\n"
     ]
    }
   ],
   "source": [
    "velocidade = int(input('Qual a velocidade do carro? '))\n",
    "if velocidade <= 110:\n",
    "    print('Tudo bem!')\n",
    "else:\n",
    "    valor_multa = (velocidade - 110) * 5\n",
    "    print(f'O valor da multa será de R${valor_multa:.2f}')"
   ]
  },
  {
   "cell_type": "code",
   "execution_count": 76,
   "metadata": {},
   "outputs": [
    {
     "name": "stdout",
     "output_type": "stream",
     "text": [
      "Quantidade de minutos: 799\n",
      "O valor da conta é de R$119.85\n"
     ]
    }
   ],
   "source": [
    "minutos = int(input('Quantidade de minutos: '))\n",
    "if minutos < 200:\n",
    "    valor = minutos * 0.20\n",
    "elif minutos < 400:\n",
    "    valor = minutos * 0.18\n",
    "elif minutos < 800:\n",
    "    valor = minutos * 0.15\n",
    "else:\n",
    "    valor = minutos * 0.08\n",
    "print(f'O valor da conta é de R${valor:.2f}')"
   ]
  },
  {
   "cell_type": "code",
   "execution_count": 11,
   "metadata": {},
   "outputs": [
    {
     "name": "stdout",
     "output_type": "stream",
     "text": [
      "1\n",
      "2\n",
      "3\n"
     ]
    }
   ],
   "source": [
    "x = 1\n",
    "while x <= 3:\n",
    "    print(x)\n",
    "    x += 1"
   ]
  },
  {
   "cell_type": "code",
   "execution_count": 14,
   "metadata": {},
   "outputs": [
    {
     "name": "stdout",
     "output_type": "stream",
     "text": [
      "Digite um número: 10\n",
      "1\n",
      "2\n",
      "3\n",
      "4\n",
      "5\n",
      "6\n",
      "7\n",
      "8\n",
      "9\n",
      "10\n"
     ]
    }
   ],
   "source": [
    "x = int(input('Digite um número: '))\n",
    "i = 1\n",
    "while i <= x:\n",
    "    print(i)\n",
    "    i += 1"
   ]
  },
  {
   "cell_type": "code",
   "execution_count": 20,
   "metadata": {},
   "outputs": [
    {
     "name": "stdout",
     "output_type": "stream",
     "text": [
      "Digite um numero: 13\n",
      "0\n",
      "2\n",
      "4\n",
      "6\n",
      "8\n",
      "10\n",
      "12\n"
     ]
    }
   ],
   "source": [
    "x = int(input('Digite um numero: '))\n",
    "i = 0\n",
    "while i <= x:\n",
    "    if i % 2 == 0:\n",
    "        print(i)\n",
    "    i += 1"
   ]
  },
  {
   "cell_type": "code",
   "execution_count": 25,
   "metadata": {},
   "outputs": [
    {
     "name": "stdout",
     "output_type": "stream",
     "text": [
      "Quantos números será lido? 4\n",
      "1º Número: 32\n",
      "2º Número: 43\n",
      "3º Número: 47\n",
      "4º Número: 69\n",
      "A soma dos valores é 191 e a média dos valores é 47.75\n"
     ]
    }
   ],
   "source": [
    "i = 1\n",
    "soma = 0\n",
    "numeros = int(input('Quantos números será lido? '))\n",
    "while i <= numeros:\n",
    "    valor = int(input(f'{i}º Número: '))\n",
    "    soma += valor\n",
    "    i += 1\n",
    "media = soma / numeros\n",
    "print(f'A soma dos valores é {soma} e a média dos valores é {media:.2f}')"
   ]
  },
  {
   "cell_type": "code",
   "execution_count": 27,
   "metadata": {},
   "outputs": [
    {
     "name": "stdout",
     "output_type": "stream",
     "text": [
      "Digite o valor para calcular o fatorial: 4\n",
      "O fatorial de 4 é 24\n"
     ]
    }
   ],
   "source": [
    "n = int(input('Digite o valor para calcular o fatorial: '))\n",
    "i = 1\n",
    "resultado = 1\n",
    "while i <= n:\n",
    "    resultado *= i\n",
    "    i += 1\n",
    "print(f'O fatorial de {n} é {resultado}')"
   ]
  },
  {
   "cell_type": "code",
   "execution_count": 31,
   "metadata": {},
   "outputs": [
    {
     "name": "stdout",
     "output_type": "stream",
     "text": [
      "Digite um valor para somar: (Zero para sair!)9\n",
      "Digite um valor para somar: (Zero para sair!)8\n",
      "Digite um valor para somar: (Zero para sair!)7\n",
      "Digite um valor para somar: (Zero para sair!)0\n",
      "A soma dos valores é 24 e a média é 8.00\n"
     ]
    }
   ],
   "source": [
    "soma = 0\n",
    "contador = 0\n",
    "while True:\n",
    "    x = int(input('Digite um valor para somar: (Zero para sair!)'))\n",
    "    if x == 0:\n",
    "        break\n",
    "    soma += x\n",
    "    contador += 1\n",
    "media = soma / contador\n",
    "print(f'A soma dos valores é {soma} e a média é {media:.2f}')"
   ]
  },
  {
   "cell_type": "code",
   "execution_count": 36,
   "metadata": {},
   "outputs": [
    {
     "name": "stdout",
     "output_type": "stream",
     "text": [
      "Tabuada de qual número? 5\n",
      "5 * 1 = 5\n",
      "5 * 2 = 10\n",
      "5 * 3 = 15\n",
      "5 * 4 = 20\n",
      "5 * 5 = 25\n",
      "5 * 6 = 30\n",
      "5 * 7 = 35\n",
      "5 * 8 = 40\n",
      "5 * 9 = 45\n",
      "5 * 10 = 50\n",
      "\n"
     ]
    }
   ],
   "source": [
    "i = 1\n",
    "n = int(input('Tabuada de qual número? '))\n",
    "while i <= 10:\n",
    "    print(f'{n} * {i} = {i*n}')\n",
    "    i += 1\n",
    "print()"
   ]
  },
  {
   "cell_type": "code",
   "execution_count": 35,
   "metadata": {},
   "outputs": [
    {
     "name": "stdout",
     "output_type": "stream",
     "text": [
      "----- Imprimindo Tabuada completa -----\n",
      "Tabuada do 1\n",
      "1 * 1 = 1\n",
      "1 * 2 = 2\n",
      "1 * 3 = 3\n",
      "1 * 4 = 4\n",
      "1 * 5 = 5\n",
      "1 * 6 = 6\n",
      "1 * 7 = 7\n",
      "1 * 8 = 8\n",
      "1 * 9 = 9\n",
      "1 * 10 = 10\n",
      "\n",
      "Tabuada do 2\n",
      "2 * 1 = 2\n",
      "2 * 2 = 4\n",
      "2 * 3 = 6\n",
      "2 * 4 = 8\n",
      "2 * 5 = 10\n",
      "2 * 6 = 12\n",
      "2 * 7 = 14\n",
      "2 * 8 = 16\n",
      "2 * 9 = 18\n",
      "2 * 10 = 20\n",
      "\n",
      "Tabuada do 3\n",
      "3 * 1 = 3\n",
      "3 * 2 = 6\n",
      "3 * 3 = 9\n",
      "3 * 4 = 12\n",
      "3 * 5 = 15\n",
      "3 * 6 = 18\n",
      "3 * 7 = 21\n",
      "3 * 8 = 24\n",
      "3 * 9 = 27\n",
      "3 * 10 = 30\n",
      "\n",
      "Tabuada do 4\n",
      "4 * 1 = 4\n",
      "4 * 2 = 8\n",
      "4 * 3 = 12\n",
      "4 * 4 = 16\n",
      "4 * 5 = 20\n",
      "4 * 6 = 24\n",
      "4 * 7 = 28\n",
      "4 * 8 = 32\n",
      "4 * 9 = 36\n",
      "4 * 10 = 40\n",
      "\n",
      "Tabuada do 5\n",
      "5 * 1 = 5\n",
      "5 * 2 = 10\n",
      "5 * 3 = 15\n",
      "5 * 4 = 20\n",
      "5 * 5 = 25\n",
      "5 * 6 = 30\n",
      "5 * 7 = 35\n",
      "5 * 8 = 40\n",
      "5 * 9 = 45\n",
      "5 * 10 = 50\n",
      "\n",
      "Tabuada do 6\n",
      "6 * 1 = 6\n",
      "6 * 2 = 12\n",
      "6 * 3 = 18\n",
      "6 * 4 = 24\n",
      "6 * 5 = 30\n",
      "6 * 6 = 36\n",
      "6 * 7 = 42\n",
      "6 * 8 = 48\n",
      "6 * 9 = 54\n",
      "6 * 10 = 60\n",
      "\n",
      "Tabuada do 7\n",
      "7 * 1 = 7\n",
      "7 * 2 = 14\n",
      "7 * 3 = 21\n",
      "7 * 4 = 28\n",
      "7 * 5 = 35\n",
      "7 * 6 = 42\n",
      "7 * 7 = 49\n",
      "7 * 8 = 56\n",
      "7 * 9 = 63\n",
      "7 * 10 = 70\n",
      "\n",
      "Tabuada do 8\n",
      "8 * 1 = 8\n",
      "8 * 2 = 16\n",
      "8 * 3 = 24\n",
      "8 * 4 = 32\n",
      "8 * 5 = 40\n",
      "8 * 6 = 48\n",
      "8 * 7 = 56\n",
      "8 * 8 = 64\n",
      "8 * 9 = 72\n",
      "8 * 10 = 80\n",
      "\n",
      "Tabuada do 9\n",
      "9 * 1 = 9\n",
      "9 * 2 = 18\n",
      "9 * 3 = 27\n",
      "9 * 4 = 36\n",
      "9 * 5 = 45\n",
      "9 * 6 = 54\n",
      "9 * 7 = 63\n",
      "9 * 8 = 72\n",
      "9 * 9 = 81\n",
      "9 * 10 = 90\n",
      "\n",
      "Tabuada do 10\n",
      "10 * 1 = 10\n",
      "10 * 2 = 20\n",
      "10 * 3 = 30\n",
      "10 * 4 = 40\n",
      "10 * 5 = 50\n",
      "10 * 6 = 60\n",
      "10 * 7 = 70\n",
      "10 * 8 = 80\n",
      "10 * 9 = 90\n",
      "10 * 10 = 100\n",
      "\n"
     ]
    }
   ],
   "source": [
    "print('----- Imprimindo Tabuada completa -----')\n",
    "i = 1\n",
    "while i <= 10:\n",
    "    t = 1\n",
    "    print(f'Tabuada do {i}')\n",
    "    while t <= 10:\n",
    "        print(f'{i} * {t} = {t * i}')\n",
    "        t += 1\n",
    "    print()\n",
    "    i += 1\n"
   ]
  },
  {
   "cell_type": "code",
   "execution_count": 8,
   "metadata": {},
   "outputs": [
    {
     "name": "stdout",
     "output_type": "stream",
     "text": [
      "Família Budapest\n",
      "Família Athenas\n",
      "Familia Slavia\n",
      "Familia Notre Dame\n",
      "['Família Budapest', 'Família Athenas', 'Familia Slavia', 'Familia Notre Dame', 17]\n"
     ]
    },
    {
     "data": {
      "text/plain": [
       "5"
      ]
     },
     "execution_count": 8,
     "metadata": {},
     "output_type": "execute_result"
    }
   ],
   "source": [
    "edificio = ['Família Budapest', 'Família Athenas', 'Familia Slavia', 'Familia Notre Dame']\n",
    "for familia in edificio:\n",
    "    print(familia)\n",
    "edificio.append(17)\n",
    "print(edificio)\n",
    "len(edificio)"
   ]
  },
  {
   "cell_type": "code",
   "execution_count": 19,
   "metadata": {},
   "outputs": [
    {
     "name": "stdout",
     "output_type": "stream",
     "text": [
      "1ª Nota: 10\n",
      "2ª Nota: 10\n",
      "3ª Nota: 8\n",
      "4ª Nota: 0\n",
      "A soma das notas: [10.0, 10.0, 8.0, 0.0] é igual a: 28.00 e a média é de 7.00\n"
     ]
    }
   ],
   "source": [
    "notas = []\n",
    "i = 0\n",
    "soma = 0\n",
    "while i <= 3:\n",
    "    notas.append(float(input(f'{i+1}ª Nota: ')))\n",
    "    soma += notas[i]\n",
    "    i += 1\n",
    "print(f'A soma das notas: {notas} é igual a: {soma:.2f} e a média é de {soma / 4:.2f}')"
   ]
  },
  {
   "cell_type": "code",
   "execution_count": 29,
   "metadata": {},
   "outputs": [
    {
     "name": "stdout",
     "output_type": "stream",
     "text": [
      "abacate\n",
      "cate\n",
      "at\n"
     ]
    }
   ],
   "source": [
    "fruta = 'abacate'\n",
    "print(fruta[0:len(fruta)])\n",
    "print(fruta[3:])\n",
    "print(fruta[-3:-1])"
   ]
  },
  {
   "cell_type": "code",
   "execution_count": 34,
   "metadata": {},
   "outputs": [
    {
     "name": "stdout",
     "output_type": "stream",
     "text": [
      "bttnaqad ac\n",
      "ecsan odnauq ahnitatab\n"
     ]
    }
   ],
   "source": [
    "texto = 'batatinha quando nasce'\n",
    "print(texto[::2])\n",
    "print(texto[::-1])"
   ]
  },
  {
   "cell_type": "code",
   "execution_count": 39,
   "metadata": {},
   "outputs": [
    {
     "name": "stdout",
     "output_type": "stream",
     "text": [
      "Digite uma palavra para teste Palíndrome: asas\n",
      "A palavra não é palíndrome, porque asas e diferente de sasa\n",
      "False\n"
     ]
    }
   ],
   "source": [
    "palavra = input('Digite uma palavra para teste Palíndrome: ')\n",
    "palindrome = palavra == palavra[::-1]\n",
    "if palindrome:\n",
    "    print(f'A palavra é palíndrome, porque {palavra} é igual a {palavra[::-1]}')\n",
    "else:\n",
    "    print(f'A palavra não é palíndrome, porque {palavra} e diferente de {palavra[::-1]}')\n",
    "print(palindrome)"
   ]
  },
  {
   "cell_type": "code",
   "execution_count": 42,
   "metadata": {},
   "outputs": [
    {
     "name": "stdout",
     "output_type": "stream",
     "text": [
      "abacate agora é @bacate\n"
     ]
    }
   ],
   "source": [
    "fruta = 'abacate'\n",
    "nova_fruta = '@' + fruta[1:]\n",
    "print(fruta, 'agora é', nova_fruta)"
   ]
  },
  {
   "cell_type": "code",
   "execution_count": 47,
   "metadata": {},
   "outputs": [
    {
     "name": "stdout",
     "output_type": "stream",
     "text": [
      "Digite uma palavra: ABACATE\n",
      "A palavra ABACATE foi trocada para *B*C*T*\n"
     ]
    }
   ],
   "source": [
    "palavra = input('Digite uma palavra: ')\n",
    "k = 0\n",
    "troca = ''\n",
    "while k < len(palavra):\n",
    "    if palavra[k] in 'aeiouAEIOU':\n",
    "        troca = troca + '*'\n",
    "    else:\n",
    "        troca = troca + palavra[k]\n",
    "    k += 1\n",
    "print(f'A palavra {palavra} foi trocada para {troca}')"
   ]
  },
  {
   "cell_type": "code",
   "execution_count": 56,
   "metadata": {},
   "outputs": [
    {
     "name": "stdout",
     "output_type": "stream",
     "text": [
      "3\n",
      "um gato, dois gatos, três gatos, gatosss\n"
     ]
    }
   ],
   "source": [
    "texto = 'um tigre, dois tigres, três tigres, tigresss'\n",
    "print(texto.find('tigre'))\n",
    "novo_texto = texto.replace('tigre', 'gato')\n",
    "print(novo_texto)"
   ]
  },
  {
   "cell_type": "code",
   "execution_count": 66,
   "metadata": {},
   "outputs": [
    {
     "name": "stdout",
     "output_type": "stream",
     "text": [
      "Digite uma data no formato dd/mm/aaaa23/03/2014\n",
      "A data 23/03/2014 é lida 23 de março de 2014\n"
     ]
    }
   ],
   "source": [
    "data = input('Digite uma data no formato dd/mm/aaaa')\n",
    "mes = ['janeiro', 'fevereiro', 'março', 'abril', 'maio', 'junho', 'julho', 'agosto', 'setembro', 'outubro', 'novembro', 'dezembro']\n",
    "a, b, c = data.split('/')\n",
    "print(f'A data {data} é lida {a} de {mes[int(b)-1]} de {c}')"
   ]
  },
  {
   "cell_type": "code",
   "execution_count": 67,
   "metadata": {},
   "outputs": [
    {
     "name": "stdout",
     "output_type": "stream",
     "text": [
      "a\n",
      "e\n",
      "i\n",
      "o\n",
      "u\n"
     ]
    }
   ],
   "source": [
    "for letra in 'aeiou':\n",
    "    print(letra)"
   ]
  },
  {
   "cell_type": "code",
   "execution_count": 68,
   "metadata": {},
   "outputs": [
    {
     "name": "stdout",
     "output_type": "stream",
     "text": [
      "1\n",
      "2\n",
      "3\n",
      "4\n",
      "5\n",
      "6\n",
      "7\n",
      "8\n",
      "9\n"
     ]
    }
   ],
   "source": [
    "for n in range(1, 10):\n",
    "    print(n)"
   ]
  },
  {
   "cell_type": "code",
   "execution_count": 69,
   "metadata": {},
   "outputs": [
    {
     "name": "stdout",
     "output_type": "stream",
     "text": [
      "abacate\n",
      "42\n",
      "3.14\n"
     ]
    }
   ],
   "source": [
    "for item in ['abacate', 42, 3.14]:\n",
    "    print(item)"
   ]
  },
  {
   "cell_type": "code",
   "execution_count": 70,
   "metadata": {},
   "outputs": [
    {
     "name": "stdout",
     "output_type": "stream",
     "text": [
      "abacate\n",
      "42\n",
      "3.14\n"
     ]
    }
   ],
   "source": [
    "i = 0\n",
    "lista = ['abacate', 42, 3.14]\n",
    "while i < len(lista):\n",
    "    print(lista[i])\n",
    "    i += 1"
   ]
  },
  {
   "cell_type": "code",
   "execution_count": 73,
   "metadata": {},
   "outputs": [
    {
     "name": "stdout",
     "output_type": "stream",
     "text": [
      "True\n",
      "False\n"
     ]
    }
   ],
   "source": [
    "def eh_par(x):\n",
    "    return x % 2 == 0\n",
    "print(eh_par(2))\n",
    "print(eh_par(3))"
   ]
  },
  {
   "cell_type": "code",
   "execution_count": 5,
   "metadata": {},
   "outputs": [
    {
     "name": "stdout",
     "output_type": "stream",
     "text": [
      "Digite um valor para calcular o Fatorial: 5\n",
      "120\n",
      "1\n",
      "2\n",
      "6\n",
      "24\n",
      "120\n",
      "720\n",
      "5040\n",
      "40320\n",
      "362880\n",
      "3628800\n"
     ]
    }
   ],
   "source": [
    "def fatorial(x):\n",
    "    f = 1\n",
    "    while x > 0:\n",
    "        f = f * x\n",
    "        x -= 1\n",
    "    return f\n",
    "n = int(input('Digite um valor para calcular o Fatorial: '))\n",
    "print(fatorial(n))\n",
    "for i in range(1, 11):\n",
    "    print(fatorial(i))\n"
   ]
  },
  {
   "cell_type": "code",
   "execution_count": 7,
   "metadata": {},
   "outputs": [
    {
     "name": "stdout",
     "output_type": "stream",
     "text": [
      "João\n",
      "Carlos\n",
      "João\n"
     ]
    }
   ],
   "source": [
    "funcionario = 'João'\n",
    "def fatec():\n",
    "    funcionario = 'Carlos'\n",
    "    print(funcionario)\n",
    "print(funcionario)\n",
    "fatec()\n",
    "print(funcionario)"
   ]
  },
  {
   "cell_type": "code",
   "execution_count": 16,
   "metadata": {},
   "outputs": [
    {
     "name": "stdout",
     "output_type": "stream",
     "text": [
      "['Nunca', 'antes', 'na', 'história', 'desse', 'país', 'houve', 'um', 'momento', 'de', 'crescimento']\n"
     ]
    }
   ],
   "source": [
    "lista = \"\"\" Nunca antes na história desse país, houve um momento de crescimento\n",
    "\"\"\"\n",
    "lista = lista.replace(',', '')\n",
    "lista = lista.split()\n",
    "print(lista)"
   ]
  },
  {
   "cell_type": "code",
   "execution_count": 44,
   "metadata": {},
   "outputs": [
    {
     "data": {
      "text/plain": [
       "'Ana'"
      ]
     },
     "execution_count": 44,
     "metadata": {},
     "output_type": "execute_result"
    }
   ],
   "source": [
    "import random\n",
    "nomes = 'Maria João Pedro José Marcos Ana Carlos'.split()\n",
    "random.randint(1, 100)\n",
    "random.choice(nomes)"
   ]
  },
  {
   "cell_type": "code",
   "execution_count": 57,
   "metadata": {},
   "outputs": [
    {
     "name": "stdout",
     "output_type": "stream",
     "text": [
      "['Pedro', 'José', 'Carlos', 'Maria', 'João', 'Ana', 'Marcos']\n"
     ]
    },
    {
     "data": {
      "text/plain": [
       "['Pedro', 'Carlos']"
      ]
     },
     "execution_count": 57,
     "metadata": {},
     "output_type": "execute_result"
    }
   ],
   "source": [
    "random.shuffle(nomes)\n",
    "print(nomes)\n",
    "random.sample(nomes, 2)"
   ]
  },
  {
   "cell_type": "markdown",
   "metadata": {},
   "source": [
    "#### Abre um documento e altera"
   ]
  },
  {
   "cell_type": "code",
   "execution_count": 20,
   "metadata": {},
   "outputs": [],
   "source": [
    "f = open(r'/home/talita/Documents/TI/DATA-SCIENCE/jupyter-notebook/python-para-zumbis/arquivos-aulas/x.txt', 'w')\n",
    "for linha in range(1, 33):\n",
    "    f.write(f'{linha}\\n')\n",
    "f.close()"
   ]
  },
  {
   "cell_type": "markdown",
   "metadata": {},
   "source": [
    "#### Abre um documento e lê"
   ]
  },
  {
   "cell_type": "code",
   "execution_count": 21,
   "metadata": {},
   "outputs": [
    {
     "name": "stdout",
     "output_type": "stream",
     "text": [
      "1\n",
      "2\n",
      "3\n",
      "4\n",
      "5\n",
      "6\n",
      "7\n",
      "8\n",
      "9\n",
      "10\n",
      "11\n",
      "12\n",
      "13\n",
      "14\n",
      "15\n",
      "16\n",
      "17\n",
      "18\n",
      "19\n",
      "20\n",
      "21\n",
      "22\n",
      "23\n",
      "24\n",
      "25\n",
      "26\n",
      "27\n",
      "28\n",
      "29\n",
      "30\n",
      "31\n",
      "32\n"
     ]
    }
   ],
   "source": [
    "f = open(r'/home/talita/Documents/TI/DATA-SCIENCE/jupyter-notebook/python-para-zumbis/arquivos-aulas/x.txt')\n",
    "for linha in f.readlines():\n",
    "    print(linha.strip())\n",
    "f.close()"
   ]
  },
  {
   "cell_type": "code",
   "execution_count": 22,
   "metadata": {},
   "outputs": [
    {
     "name": "stdout",
     "output_type": "stream",
     "text": [
      "1\n",
      "2\n",
      "3\n",
      "4\n",
      "5\n",
      "6\n",
      "7\n",
      "8\n",
      "9\n",
      "10\n",
      "11\n",
      "12\n",
      "13\n",
      "14\n",
      "15\n",
      "16\n",
      "17\n",
      "18\n",
      "19\n",
      "20\n",
      "21\n",
      "22\n",
      "23\n",
      "24\n",
      "25\n",
      "26\n",
      "27\n",
      "28\n",
      "29\n",
      "30\n",
      "31\n",
      "32\n",
      "\n"
     ]
    }
   ],
   "source": [
    "with open(r'/home/talita/Documents/TI/DATA-SCIENCE/jupyter-notebook/python-para-zumbis/arquivos-aulas/x.txt') as f:\n",
    "    print (f.read())"
   ]
  },
  {
   "cell_type": "code",
   "execution_count": 23,
   "metadata": {},
   "outputs": [],
   "source": [
    "texto = open(r'arquivos-aulas/mensagem.txt')\n",
    "saida = open(r'arquivos-aulas/crypto.txt', 'w')\n",
    "for linha in texto.readlines():\n",
    "    for letra in linha:\n",
    "        if letra in 'aeiouãoç':\n",
    "            saida.write('*')\n",
    "        else:\n",
    "            saida.write(letra)\n",
    "texto.close()\n",
    "saida.close()"
   ]
  },
  {
   "cell_type": "code",
   "execution_count": 24,
   "metadata": {},
   "outputs": [],
   "source": [
    "# Analisa endereços IP's e insere em um arquivo se válidos ou se inválidos\n",
    "def ip_ok(ip):\n",
    "    ip = ip.split('.')\n",
    "    for byte in ip:\n",
    "        if int(byte) > 255:\n",
    "            return False\n",
    "    return True\n",
    "\n",
    "arquivo = open(r'arquivos-aulas/IPS.txt')\n",
    "validos = open(r'arquivos-aulas/validos.txt', 'w')\n",
    "invalidos = open(r'arquivos-aulas/invalidos.txt', 'w')\n",
    "for linha in arquivo.readlines():\n",
    "    if ip_ok(linha):\n",
    "        validos.write(linha)\n",
    "    else:\n",
    "        invalidos.write(linha)\n",
    "arquivo.close()\n",
    "validos.close()\n",
    "invalidos.close()"
   ]
  },
  {
   "cell_type": "code",
   "execution_count": 30,
   "metadata": {},
   "outputs": [
    {
     "name": "stdout",
     "output_type": "stream",
     "text": [
      "Ebraim\n"
     ]
    }
   ],
   "source": [
    "obj = {\n",
    "    'nome': 'Ebraim',\n",
    "    'sobrenome': 'Carvalho',\n",
    "    'linguagem': 'Python Javascript'.split()\n",
    "}\n",
    "obj['job'] = 'Data Scientist'\n",
    "print(obj['nome'])"
   ]
  },
  {
   "cell_type": "code",
   "execution_count": 32,
   "metadata": {},
   "outputs": [],
   "source": [
    "#Escreve um arquivo em codigo html\n",
    "hello = open(r'arquivos-aulas/hello-world.html', 'w', encoding='utf-8')\n",
    "hello.write('''<!DOCTYPE html>\n",
    "<html>\n",
    "<head>\n",
    "<meta charset='utf-8' />\n",
    "<title>Hello World</title>\n",
    "</head>\n",
    "<body>\n",
    "<h1>Hello World!</h1>\n",
    "<p><small>Feito com Python</small></p>\n",
    "</body>\n",
    "</html>''')\n",
    "hello.close()"
   ]
  },
  {
   "cell_type": "code",
   "execution_count": 2,
   "metadata": {},
   "outputs": [
    {
     "name": "stdout",
     "output_type": "stream",
     "text": [
      "389 vezes\n",
      "the 1804\n",
      "and 912\n",
      "to 801\n",
      "a 684\n",
      "of 625\n",
      "it 541\n",
      "she 538\n",
      "said 462\n",
      "you 429\n",
      "in 428\n",
      "i 400\n",
      "ebraim 389\n",
      "alice 385\n",
      "was 358\n",
      "that 291\n",
      "as 272\n",
      "her 248\n",
      "with 228\n",
      "at 224\n",
      "on 204\n",
      "all 197\n",
      "this 181\n",
      "for 179\n",
      "had 178\n",
      "but 169\n"
     ]
    }
   ],
   "source": [
    "#Lê livro Alice e conta as palavras\n",
    "from string import punctuation\n",
    "alice = open(r'arquivos-aulas/alice.txt').read().lower()\n",
    "for c in punctuation:\n",
    "    alice = alice.replace(c, '')\n",
    "    \n",
    "alice = alice.split()\n",
    "wc = {}\n",
    "\n",
    "for p in alice:\n",
    "    if p in wc:\n",
    "        wc[p] += 1\n",
    "    else:\n",
    "        wc[p] = 1\n",
    "\n",
    "print(f'{wc[\"ebraim\"]} vezes')\n",
    "\n",
    "def contador(dupla):\n",
    "    return dupla[1]\n",
    "\n",
    "duplas = sorted(wc.items(), key=contador, reverse=True)\n",
    "for dupla in duplas[:25]:\n",
    "    print(dupla[0], dupla[1])"
   ]
  },
  {
   "cell_type": "code",
   "execution_count": 49,
   "metadata": {},
   "outputs": [
    {
     "name": "stdout",
     "output_type": "stream",
     "text": [
      "2 False\n",
      "7 True\n",
      "8\n",
      "6\n"
     ]
    }
   ],
   "source": [
    "# Classes e Objetos\n",
    "class Televisao():\n",
    "    def __init__(self):\n",
    "        self.ligada = False\n",
    "        self.canal = 2\n",
    "    def mudar_canal_cima(self, n = 1):\n",
    "        self.canal += n\n",
    "    def mudar_canal_baixo(self, n = 1):\n",
    "        self.canal -= n\n",
    "\n",
    "tv_sala = Televisao()\n",
    "tv_quarto = Televisao()\n",
    "print(tv_sala.canal, tv_sala.ligada)\n",
    "tv_sala.canal = 7\n",
    "tv_sala.ligada = True\n",
    "print(tv_sala.canal, tv_sala.ligada)\n",
    "tv_sala.mudar_canal_cima()\n",
    "print(tv_sala.canal)\n",
    "tv_sala.mudar_canal_baixo(2)\n",
    "print(tv_sala.canal)"
   ]
  },
  {
   "cell_type": "code",
   "execution_count": 91,
   "metadata": {},
   "outputs": [
    {
     "name": "stdout",
     "output_type": "stream",
     "text": [
      "Nome: João da Silva Telefone: 555-7890\n",
      "Extrato Conta Nº 1\n",
      "Depósito: 1000\n",
      "Saque: 50\n",
      "Depósito: 200.25\n",
      "Saque: 300\n",
      "Saldo: 850.25\n",
      "Saque de 800 indisponivel!\n",
      "Extrato Conta Nº 2\n",
      "Depósito: 500\n",
      "Depósito: 300.3\n",
      "Saldo: 800.3\n"
     ]
    }
   ],
   "source": [
    "#Conta Corrente Banco\n",
    "class Cliente():\n",
    "    def __init__(self, nome, telefone):\n",
    "        self.nome = nome\n",
    "        self.telefone = telefone\n",
    "        \n",
    "class Conta():\n",
    "    def __init__(self, clientes, numero, saldo):\n",
    "        self.saldo = 0\n",
    "        self.numero = numero\n",
    "        self.clientes = clientes\n",
    "        self.operacoes = []\n",
    "        self.deposito(saldo)\n",
    "        \n",
    "    def resumo(self):\n",
    "        print(f'Conta: {self.numero} Saldo: R${self.saldo}')\n",
    "\n",
    "    def saque(self, valor):\n",
    "        if self.saldo >= valor:\n",
    "            self.saldo -= valor\n",
    "            self.operacoes.append(['Saque', valor])\n",
    "        else:\n",
    "            print(f'Saque de {valor} indisponivel!')\n",
    "            \n",
    "    def deposito(self, valor):\n",
    "        self.saldo += valor\n",
    "        self.operacoes.append(['Depósito', valor])\n",
    "        \n",
    "    def extrato(self):\n",
    "        print(f'Extrato Conta Nº {self.numero}')\n",
    "        for op in self.operacoes:\n",
    "            print(f'{op[0]}: {op[1]}')\n",
    "        print(f'Saldo: {self.saldo}')\n",
    "        \n",
    "\n",
    "joao = Cliente('João da Silva', '555-7890')\n",
    "maria = Cliente('Maria da Silva', '333-5678')\n",
    "print(f'Nome: {joao.nome} Telefone: {joao.telefone}')\n",
    "\n",
    "conta_joao = Conta(['João'], 1, 1000)\n",
    "conta_maria = Conta(['João', 'Maria'], 2, 500)\n",
    "conta_joao.saque(50)\n",
    "conta_joao.deposito(200.25)\n",
    "conta_joao.saque(300)\n",
    "conta_joao.extrato()\n",
    "\n",
    "conta_maria.saque(800)\n",
    "conta_maria.deposito(300.30)\n",
    "conta_maria.extrato()"
   ]
  },
  {
   "cell_type": "code",
   "execution_count": 94,
   "metadata": {},
   "outputs": [
    {
     "name": "stdout",
     "output_type": "stream",
     "text": [
      "Conta: 3 Saldo: R$-700\n"
     ]
    }
   ],
   "source": [
    "class Conta_Especial(Conta):\n",
    "    def __init__(self, clientes, numero, saldo = 0, limite = 0):\n",
    "        Conta.__init__(self, clientes, numero, saldo)\n",
    "        self.limite = limite\n",
    "    \n",
    "    def saque(self, valor):\n",
    "        if self.saldo + self.limite >= valor:\n",
    "            self.saldo -= valor\n",
    "            self.operacoes.append(['Saque', valor])\n",
    "        else:\n",
    "            print(f'Saque de {valor} indisponivel!')\n",
    "            \n",
    "conta_jose = Conta_Especial(['José', 'Ana'], 3, 500, 1000)\n",
    "conta_jose.deposito(300)\n",
    "conta_jose.saque(1500)\n",
    "conta_jose.resumo()"
   ]
  },
  {
   "cell_type": "code",
   "execution_count": 99,
   "metadata": {},
   "outputs": [
    {
     "name": "stdout",
     "output_type": "stream",
     "text": [
      "29\n",
      "Ebraim Carvalho, 29 anos\n"
     ]
    }
   ],
   "source": [
    "import datetime\n",
    "\n",
    "class Pessoa():\n",
    "    def __init__(self, nome, nascimento):\n",
    "        self.nome = nome\n",
    "        self.nascimento = nascimento\n",
    "    \n",
    "    def idade(self):\n",
    "        delta = datetime.date.today() - self.nascimento\n",
    "        return int(delta.days/365)\n",
    "    \n",
    "    def __str__(self):\n",
    "        return f'{self.nome}, {self.idade()} anos'\n",
    "    \n",
    "ebraim = Pessoa('Ebraim Carvalho', datetime.date(1991, 7, 29))\n",
    "print(ebraim.idade())\n",
    "print(ebraim)"
   ]
  },
  {
   "cell_type": "code",
   "execution_count": 3,
   "metadata": {},
   "outputs": [
    {
     "name": "stdout",
     "output_type": "stream",
     "text": [
      "Deseja comprar a qualquer preço? (S/N): S\n",
      "Comprando ao preço de 5.3\n"
     ]
    }
   ],
   "source": [
    "import urllib.request as req\n",
    "import time\n",
    "\n",
    "def pega_preco():\n",
    "    pagina = req.urlopen('http://beans.itcarlow.ie/prices.html')\n",
    "    texto = pagina.read().decode('utf8')\n",
    "    onde = texto.find('>$')\n",
    "    inicio = onde + 2\n",
    "    fim = inicio + 4\n",
    "    return float(texto[inicio:fim])\n",
    "\n",
    "compra = input('Deseja comprar a qualquer preço? (S/N): ')\n",
    "if compra == 'S':\n",
    "    preco = pega_preco()\n",
    "    print(f'Comprando ao preço de {preco}')\n",
    "else:\n",
    "    preco = 99.99\n",
    "    while preco >= 6.74:    \n",
    "        preco = pega_preco()\n",
    "        if preco > 6.74:\n",
    "            print(f'Preço acima de $6.74, está a ${preco}. Aguardando baixar...')\n",
    "            time.sleep(6)\n",
    "    print(f'Comprando ao preço de ${preco}!')"
   ]
  },
  {
   "cell_type": "code",
   "execution_count": 7,
   "metadata": {},
   "outputs": [
    {
     "name": "stdout",
     "output_type": "stream",
     "text": [
      "If you try to kill -9 Chuck Norris's programs, it backfires.\n"
     ]
    }
   ],
   "source": [
    "import json\n",
    "\n",
    "url = 'http://api.icndb.com/jokes/random?limitTo=[nerdy]'\n",
    "response = req.urlopen(url).read()\n",
    "data = json.loads(response.decode('utf8'))\n",
    "\n",
    "print(f'{data[\"value\"][\"joke\"]}')"
   ]
  },
  {
   "cell_type": "code",
   "execution_count": 6,
   "metadata": {},
   "outputs": [
    {
     "name": "stdout",
     "output_type": "stream",
     "text": [
      "Chuck Norris does not code in cycles, he codes in strikes.\n"
     ]
    }
   ],
   "source": [
    "import requests\n",
    "r = requests.get(url)\n",
    "data = r.json()\n",
    "print(f'{data[\"value\"][\"joke\"]}')"
   ]
  },
  {
   "cell_type": "code",
   "execution_count": 145,
   "metadata": {},
   "outputs": [
    {
     "name": "stdout",
     "output_type": "stream",
     "text": [
      "[('Juan', '9.12'), ('\\ufeffJohnny', '8.65'), ('Joseph', '8.45'), ('Aaron', '8.30'), ('Aideen', '8.05'), ('Stacey', '7.81'), ('Zack', '7.21')]\n"
     ]
    }
   ],
   "source": [
    "from operator import itemgetter\n",
    "surf = open(r'arquivos-aulas/surf.txt')\n",
    "pontos = []\n",
    "for linha in surf:\n",
    "    name, nota = linha.split()\n",
    "    pontos.append((name, nota))\n",
    "surf.close()\n",
    "pontos.sort(key=itemgetter(1))\n",
    "pontos.reverse()\n",
    "print(pontos)"
   ]
  },
  {
   "cell_type": "code",
   "execution_count": 165,
   "metadata": {},
   "outputs": [
    {
     "name": "stdout",
     "output_type": "stream",
     "text": [
      "{9.5: 'Abraham', 8.55: 'Lincoln', 9.77: 'Merry Christhmas'}\n",
      "[8.55, 9.5, 9.77]\n",
      "Merry Christhmas tem nota 9.77\n",
      "Abraham tem nota 9.5\n",
      "Lincoln tem nota 8.55\n"
     ]
    }
   ],
   "source": [
    "notas = {\n",
    "    9.50: 'Abraham',\n",
    "    8.55: 'Lincoln',\n",
    "    9.77: 'Merry Christhmas'\n",
    "}\n",
    "print(notas)\n",
    "notas_sorted = sorted(notas)\n",
    "print(notas_sorted)\n",
    "for nota in sorted(notas, reverse = True):\n",
    "    print(f'{notas[nota]} tem nota {nota}')"
   ]
  },
  {
   "cell_type": "code",
   "execution_count": 169,
   "metadata": {},
   "outputs": [
    {
     "name": "stdout",
     "output_type": "stream",
     "text": [
      "3.6666666666666665\n",
      "3\n"
     ]
    }
   ],
   "source": [
    "print(11/3)\n",
    "print(11//3)"
   ]
  },
  {
   "cell_type": "code",
   "execution_count": 9,
   "metadata": {},
   "outputs": [
    {
     "name": "stdout",
     "output_type": "stream",
     "text": [
      "Qual valor investido? 100000\n",
      "Qual porcentagem de retorno? 0.2\n",
      "Seu investimento retornará 619173.64 em 10 anos\n"
     ]
    }
   ],
   "source": [
    "valor_hoje = int(input('Qual valor investido? '))\n",
    "taxa = float(input('Qual porcentagem de retorno? '))\n",
    "valor = valor_hoje\n",
    "for i in range(10):\n",
    "    valor += valor * taxa\n",
    "print(f'Seu investimento retornará {valor:.2f} em 10 anos')"
   ]
  },
  {
   "cell_type": "code",
   "execution_count": 175,
   "metadata": {},
   "outputs": [
    {
     "name": "stdout",
     "output_type": "stream",
     "text": [
      "a//b//a//c//a//t//e//"
     ]
    }
   ],
   "source": [
    "for x in 'abacate':\n",
    "    print(x, end = '//')"
   ]
  },
  {
   "cell_type": "code",
   "execution_count": 180,
   "metadata": {},
   "outputs": [
    {
     "name": "stdout",
     "output_type": "stream",
     "text": [
      "Nome:  Juan Martino\n",
      "País:  Spain\n",
      "Média:  9.01\n",
      "Estilo:  Gun\n",
      "Idade:  36\n",
      "\n",
      "Nome:  Zack 'bonnie-lad' MacFadden\n",
      "País:  Scotland\n",
      "Média:  7.82\n",
      "Estilo:  Thruster\n",
      "Idade:  26\n",
      "\n"
     ]
    }
   ],
   "source": [
    "import sqlite3\n",
    "banco = sqlite3.connect(r'arquivos-aulas/surfersDB.sdb')\n",
    "banco.row_factory = sqlite3.Row\n",
    "cursor = banco.cursor()\n",
    "cursor.execute(\"select * from surfers where age > 25\")\n",
    "linhas = cursor.fetchall()\n",
    "for linha in linhas:\n",
    "    print(\"Nome: \", linha['name'])\n",
    "    print(\"País: \", linha['country'])\n",
    "    print(\"Média: \", linha['average'])\n",
    "    print(\"Estilo: \", linha['board'])\n",
    "    print(\"Idade: \", linha['age'])\n",
    "    print()\n",
    "cursor.close()"
   ]
  },
  {
   "cell_type": "code",
   "execution_count": 181,
   "metadata": {},
   "outputs": [],
   "source": [
    "con = sqlite3.connect('alunos.bd')\n",
    "cur = con.cursor()\n",
    "cur.execute('''create table alunos(login varchar(8), ra integer)''')\n",
    "cur.close()\n",
    "con.close()"
   ]
  },
  {
   "cell_type": "code",
   "execution_count": 188,
   "metadata": {},
   "outputs": [
    {
     "name": "stdout",
     "output_type": "stream",
     "text": [
      "('brenda', 26)\n",
      "('ebraim', 29)\n",
      "('christimas', 33)\n"
     ]
    }
   ],
   "source": [
    "con = sqlite3.connect('alunos.bd')\n",
    "cur = con.cursor()\n",
    "#Apaga todos os dados de alunos\n",
    "cur.execute('delete from alunos')\n",
    "\n",
    "#Escreve dados na tabela\n",
    "cur.execute('insert into alunos values(\"brenda\", 26)')\n",
    "cur.execute('insert into alunos values(\"ebraim\", 29)')\n",
    "cur.execute('insert into alunos values(\"christimas\", 33)')\n",
    "cur.execute('select * from alunos')\n",
    "for x in cur.fetchall():\n",
    "    print(x)\n",
    "cur.close()\n",
    "con.commit()\n",
    "con.close()"
   ]
  },
  {
   "cell_type": "code",
   "execution_count": 207,
   "metadata": {},
   "outputs": [
    {
     "ename": "ImportError",
     "evalue": "cannot import name 'query_tweets' from 'twitter_scraper' (/home/talita/anaconda3/lib/python3.8/site-packages/twitter_scraper/__init__.py)",
     "output_type": "error",
     "traceback": [
      "\u001b[0;31m---------------------------------------------------------------------------\u001b[0m",
      "\u001b[0;31mImportError\u001b[0m                               Traceback (most recent call last)",
      "\u001b[0;32m<ipython-input-207-6152c56edfb7>\u001b[0m in \u001b[0;36m<module>\u001b[0;34m\u001b[0m\n\u001b[0;32m----> 1\u001b[0;31m \u001b[0;32mfrom\u001b[0m \u001b[0mtwitter_scraper\u001b[0m \u001b[0;32mimport\u001b[0m \u001b[0mquery_tweets\u001b[0m\u001b[0;34m\u001b[0m\u001b[0;34m\u001b[0m\u001b[0m\n\u001b[0m\u001b[1;32m      2\u001b[0m \u001b[0;32mimport\u001b[0m \u001b[0mdatetime\u001b[0m \u001b[0;32mas\u001b[0m \u001b[0mdt\u001b[0m\u001b[0;34m\u001b[0m\u001b[0;34m\u001b[0m\u001b[0m\n\u001b[1;32m      3\u001b[0m \u001b[0;32mimport\u001b[0m \u001b[0mpandas\u001b[0m \u001b[0;32mas\u001b[0m \u001b[0mpd\u001b[0m\u001b[0;34m\u001b[0m\u001b[0;34m\u001b[0m\u001b[0m\n\u001b[1;32m      4\u001b[0m \u001b[0;34m\u001b[0m\u001b[0m\n\u001b[1;32m      5\u001b[0m \u001b[0mbegin_date\u001b[0m \u001b[0;34m=\u001b[0m \u001b[0mdt\u001b[0m\u001b[0;34m.\u001b[0m\u001b[0mdate\u001b[0m\u001b[0;34m(\u001b[0m\u001b[0;36m2019\u001b[0m\u001b[0;34m,\u001b[0m \u001b[0;36m4\u001b[0m\u001b[0;34m,\u001b[0m \u001b[0;36m15\u001b[0m\u001b[0;34m)\u001b[0m\u001b[0;34m\u001b[0m\u001b[0;34m\u001b[0m\u001b[0m\n",
      "\u001b[0;31mImportError\u001b[0m: cannot import name 'query_tweets' from 'twitter_scraper' (/home/talita/anaconda3/lib/python3.8/site-packages/twitter_scraper/__init__.py)"
     ]
    }
   ],
   "source": [
    "from twitter_scraper import query_tweets\n",
    "import datetime as dt\n",
    "import pandas as pd\n",
    "\n",
    "begin_date = dt.date(2019, 4, 15)\n",
    "end_date = dt.date(2019, 4, 18)\n",
    "\n",
    "limit = 100\n",
    "lang = 'english'\n",
    "\n",
    "tweets = query_tweets('notre dame fire', begindate = begin_date, enddate = end_date, limit = limit, lang = lang)\n",
    "df = pd.DataFrame(t.__dict__ for t in tweets)\n",
    "df.head()"
   ]
  },
  {
   "cell_type": "code",
   "execution_count": 208,
   "metadata": {},
   "outputs": [
    {
     "ename": "ModuleNotFoundError",
     "evalue": "No module named 'twitterscraper'",
     "output_type": "error",
     "traceback": [
      "\u001b[0;31m---------------------------------------------------------------------------\u001b[0m",
      "\u001b[0;31mModuleNotFoundError\u001b[0m                       Traceback (most recent call last)",
      "\u001b[0;32m<ipython-input-208-495b94ceb50e>\u001b[0m in \u001b[0;36m<module>\u001b[0;34m\u001b[0m\n\u001b[0;32m----> 1\u001b[0;31m \u001b[0;32mfrom\u001b[0m \u001b[0mtwitterscraper\u001b[0m\u001b[0;34m.\u001b[0m\u001b[0mquery\u001b[0m \u001b[0;32mimport\u001b[0m \u001b[0mquery_user_info\u001b[0m\u001b[0;34m\u001b[0m\u001b[0;34m\u001b[0m\u001b[0m\n\u001b[0m\u001b[1;32m      2\u001b[0m \u001b[0;32mimport\u001b[0m \u001b[0mpandas\u001b[0m \u001b[0;32mas\u001b[0m \u001b[0mpd\u001b[0m\u001b[0;34m\u001b[0m\u001b[0;34m\u001b[0m\u001b[0m\n\u001b[1;32m      3\u001b[0m \u001b[0;32mfrom\u001b[0m \u001b[0mmultiprocessing\u001b[0m \u001b[0;32mimport\u001b[0m \u001b[0mPool\u001b[0m\u001b[0;34m\u001b[0m\u001b[0;34m\u001b[0m\u001b[0m\n\u001b[1;32m      4\u001b[0m \u001b[0;32mimport\u001b[0m \u001b[0mtime\u001b[0m\u001b[0;34m\u001b[0m\u001b[0;34m\u001b[0m\u001b[0m\n\u001b[1;32m      5\u001b[0m \u001b[0;32mfrom\u001b[0m \u001b[0mIPython\u001b[0m\u001b[0;34m.\u001b[0m\u001b[0mdisplay\u001b[0m \u001b[0;32mimport\u001b[0m \u001b[0mdisplay\u001b[0m\u001b[0;34m\u001b[0m\u001b[0;34m\u001b[0m\u001b[0m\n",
      "\u001b[0;31mModuleNotFoundError\u001b[0m: No module named 'twitterscraper'"
     ]
    }
   ],
   "source": [
    "from twitterscraper.query import query_user_info\n",
    "import pandas as pd\n",
    "from multiprocessing import Pool\n",
    "import time\n",
    "from IPython.display import display\n",
    "\n",
    "\n",
    "global twitter_user_info\n",
    "twitter_user_info=[]\n",
    "\n",
    "\n",
    "def get_user_info(twitter_user):\n",
    "    \"\"\"\n",
    "    An example of using the query_user_info method\n",
    "    :param twitter_user: the twitter user to capture user data\n",
    "    :return: twitter_user_data: returns a dictionary of twitter user data\n",
    "    \"\"\"\n",
    "    user_info = query_user_info(user= twitter_user)\n",
    "    twitter_user_data = {}\n",
    "    twitter_user_data[\"user\"] = user_info.user\n",
    "    twitter_user_data[\"fullname\"] = user_info.full_name\n",
    "    twitter_user_data[\"location\"] = user_info.location\n",
    "    twitter_user_data[\"blog\"] = user_info.blog\n",
    "    twitter_user_data[\"date_joined\"] = user_info.date_joined\n",
    "    twitter_user_data[\"id\"] = user_info.id\n",
    "    twitter_user_data[\"num_tweets\"] = user_info.tweets\n",
    "    twitter_user_data[\"following\"] = user_info.following\n",
    "    twitter_user_data[\"followers\"] = user_info.followers\n",
    "    twitter_user_data[\"likes\"] = user_info.likes\n",
    "    twitter_user_data[\"lists\"] = user_info.lists\n",
    "    \n",
    "    return twitter_user_data\n",
    "\n",
    "\n",
    "def main():\n",
    "    start = time.time()\n",
    "    users = ['Carlos_F_Enguix', 'mmtung', 'dremio', 'MongoDB', 'JenWike', 'timberners_lee','ataspinar2', 'realDonaldTrump',\n",
    "            'BarackObama', 'elonmusk', 'BillGates', 'BillClinton','katyperry','KimKardashian']\n",
    "\n",
    "    pool = Pool(8)    \n",
    "    for user in pool.map(get_user_info,users):\n",
    "        twitter_user_info.append(user)\n",
    "\n",
    "    cols=['id','fullname','date_joined','location','blog', 'num_tweets','following','followers','likes','lists']\n",
    "    data_frame = pd.DataFrame(twitter_user_info, index=users, columns=cols)\n",
    "    data_frame.index.name = \"Users\"\n",
    "    data_frame.sort_values(by=\"followers\", ascending=False, inplace=True, kind='quicksort', na_position='last')\n",
    "    elapsed = time.time() - start\n",
    "    print(f\"Elapsed time: {elapsed}\")\n",
    "    display(data_frame)\n",
    "    \n",
    "\n",
    "if __name__ == '__main__':\n",
    "    main()"
   ]
  }
 ],
 "metadata": {
  "kernelspec": {
   "display_name": "Python 3",
   "language": "python",
   "name": "python3"
  },
  "language_info": {
   "codemirror_mode": {
    "name": "ipython",
    "version": 3
   },
   "file_extension": ".py",
   "mimetype": "text/x-python",
   "name": "python",
   "nbconvert_exporter": "python",
   "pygments_lexer": "ipython3",
   "version": "3.8.3"
  }
 },
 "nbformat": 4,
 "nbformat_minor": 4
}
