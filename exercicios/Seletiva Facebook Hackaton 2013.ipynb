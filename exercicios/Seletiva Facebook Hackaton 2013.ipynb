{
 "cells": [
  {
   "cell_type": "markdown",
   "metadata": {},
   "source": [
    "# Seletiva Facebook Hackaton 2013\n",
    "*Link do drive completo: https://www.dropbox.com/sh/m9wio7ock77yowd/AAAR3ogXRJqhd5Uw3NthvS0Ia?dl=0*"
   ]
  },
  {
   "cell_type": "code",
   "execution_count": 1,
   "metadata": {},
   "outputs": [
    {
     "name": "stdout",
     "output_type": "stream",
     "text": [
      "0b1\n",
      "0b1\n"
     ]
    }
   ],
   "source": [
    "'''\n",
    "Selection Test 2013 Facebook Hackaton\n",
    "Given two positive integers n and k,\n",
    "generate all binary integer between\n",
    "0 and 2 ** n-1, inclusive.\n",
    "These binaries will be drawn in\n",
    "descending order according to the\n",
    "number of existing 1s.\n",
    "If there is a tie choose the lowest\n",
    "numerical value.\n",
    "Return the k-th element from the\n",
    "selected list.\n",
    "Eg n = 3 and k = 5\n",
    "['0 b111 ', '0 b11', '0 B101 ',\n",
    "'0 b110', '0 b1 ', '0 b10',\n",
    "'0 b100 ', '0 b0']\n",
    "fifth element '0 b1 '\n",
    "'''\n",
    "def hack1(n, k):\n",
    "    def f(s): return s.count('1')\n",
    "    binários = []\n",
    "    for x in range(2**n):\n",
    "        binários.append(bin(x))\n",
    "    binários.sort(key=f, reverse=True)\n",
    "    return binários[k - 1]\n",
    "\n",
    "def hack(n, k):\n",
    "    return sorted(\n",
    "        [bin(x) for x in range(2**n)],\n",
    "        key=lambda s: s.count('1'),\n",
    "        reverse = True)[k-1]\n",
    "\n",
    "print (hack1(3, 5))\n",
    "print (hack(3, 5))"
   ]
  }
 ],
 "metadata": {
  "kernelspec": {
   "display_name": "Python 3",
   "language": "python",
   "name": "python3"
  },
  "language_info": {
   "codemirror_mode": {
    "name": "ipython",
    "version": 3
   },
   "file_extension": ".py",
   "mimetype": "text/x-python",
   "name": "python",
   "nbconvert_exporter": "python",
   "pygments_lexer": "ipython3",
   "version": "3.8.3"
  }
 },
 "nbformat": 4,
 "nbformat_minor": 4
}
