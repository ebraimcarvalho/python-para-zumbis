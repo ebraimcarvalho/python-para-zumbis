{
 "cells": [
  {
   "cell_type": "markdown",
   "metadata": {},
   "source": [
    "# Lista de Exercícios 14 - Revisão Geral\n",
    "*Link do drive completo: https://www.dropbox.com/sh/m9wio7ock77yowd/AAAR3ogXRJqhd5Uw3NthvS0Ia?dl=0*"
   ]
  },
  {
   "cell_type": "code",
   "execution_count": 24,
   "metadata": {},
   "outputs": [
    {
     "name": "stdout",
     "output_type": "stream",
     "text": [
      "True\n",
      "0.3333333333333333\n",
      "0\n",
      "False\n",
      "False\n",
      "2.0\n",
      "2\n",
      "True\n",
      "False\n",
      "True\n",
      "False\n"
     ]
    }
   ],
   "source": [
    "print(3 == 3.0) #True\n",
    "print(1/3) #0.3333\n",
    "print(1//3) #0\n",
    "print (3 == '3') #False\n",
    "print ('x' != 'x') #False\n",
    "print (2/1) #2.0\n",
    "print (2//1) #2\n",
    "print (not False) #True\n",
    "print (not True) #False\n",
    "print (not 0) #True\n",
    "print (True and (False or not True)) #False"
   ]
  },
  {
   "cell_type": "code",
   "execution_count": 10,
   "metadata": {},
   "outputs": [
    {
     "name": "stdout",
     "output_type": "stream",
     "text": [
      "<class 'int'>\n",
      "<class 'float'>\n",
      "<class 'float'>\n",
      "<class 'str'>\n",
      "<class 'bool'>\n",
      "<class 'float'>\n",
      "<class 'int'>\n",
      "<class 'int'>\n",
      "<class 'int'>\n",
      "<class 'bool'>\n",
      "<class 'bool'>\n",
      "<class 'bool'>\n"
     ]
    }
   ],
   "source": [
    "print (type(0)) #int\n",
    "print (type(0.0)) #float\n",
    "print (type(3.14)) #float\n",
    "print (type('Py')) #str\n",
    "print (type(True)) #bool\n",
    "print (type(1/2)) #float\n",
    "print (type(1//2)) #int\n",
    "print (type(2//1)) #int\n",
    "print (type(3**3)) #int\n",
    "print (type(0==0)) #bool\n",
    "print (type(3<0)) #bool\n",
    "print (type(3!=3)) #bool"
   ]
  },
  {
   "cell_type": "code",
   "execution_count": 11,
   "metadata": {},
   "outputs": [
    {
     "name": "stdout",
     "output_type": "stream",
     "text": [
      "12\n"
     ]
    }
   ],
   "source": [
    "a = 5\n",
    "b = a + 7\n",
    "a = 10\n",
    "print (b) #12"
   ]
  },
  {
   "cell_type": "code",
   "execution_count": 12,
   "metadata": {},
   "outputs": [
    {
     "name": "stdout",
     "output_type": "stream",
     "text": [
      "x x "
     ]
    }
   ],
   "source": [
    "print ('x', end = ' ')\n",
    "print ('x', end = ' ') # x x"
   ]
  },
  {
   "cell_type": "code",
   "execution_count": 13,
   "metadata": {},
   "outputs": [
    {
     "name": "stdout",
     "output_type": "stream",
     "text": [
      "<class 'str'>\n"
     ]
    }
   ],
   "source": [
    "print (type(str(int(3.14159265358979)))) #str"
   ]
  },
  {
   "cell_type": "code",
   "execution_count": 14,
   "metadata": {},
   "outputs": [
    {
     "name": "stdout",
     "output_type": "stream",
     "text": [
      "10 20 "
     ]
    }
   ],
   "source": [
    "a = 20\n",
    "print (15-(a-15), end = ' ') #10\n",
    "a = 10\n",
    "print (15-(a-15), end = ' ') #20"
   ]
  },
  {
   "cell_type": "code",
   "execution_count": 21,
   "metadata": {},
   "outputs": [
    {
     "name": "stdout",
     "output_type": "stream",
     "text": [
      "0.75 75\n"
     ]
    }
   ],
   "source": [
    "a = 12.75\n",
    "print (a - int(a), end = ' ') #0.75\n",
    "a = int((a - int(a))*100) #75\n",
    "print (a)"
   ]
  },
  {
   "cell_type": "code",
   "execution_count": 20,
   "metadata": {},
   "outputs": [
    {
     "name": "stdout",
     "output_type": "stream",
     "text": [
      "4 3\n"
     ]
    }
   ],
   "source": [
    "a = 3\n",
    "b = 4\n",
    "a = a + b #7\n",
    "b = a - b #3\n",
    "a = a - b #4\n",
    "print (a, b) #4, 3"
   ]
  },
  {
   "cell_type": "code",
   "execution_count": 27,
   "metadata": {},
   "outputs": [
    {
     "name": "stdout",
     "output_type": "stream",
     "text": [
      "1\n",
      "0\n",
      "123\n"
     ]
    }
   ],
   "source": [
    "print (3 % 2) #1\n",
    "print (0 % 2) #0\n",
    "print (123%356254) #123"
   ]
  },
  {
   "cell_type": "code",
   "execution_count": 29,
   "metadata": {},
   "outputs": [
    {
     "name": "stdout",
     "output_type": "stream",
     "text": [
      "<class 'list'>\n",
      "<class 'dict'>\n",
      "<class 'list'>\n"
     ]
    }
   ],
   "source": [
    "print (type([1, 2])) #list\n",
    "print (type({1:2})) #dict\n",
    "print (type([])) #list"
   ]
  },
  {
   "cell_type": "code",
   "execution_count": 31,
   "metadata": {},
   "outputs": [
    {
     "name": "stdout",
     "output_type": "stream",
     "text": [
      "True False True True False True\n"
     ]
    }
   ],
   "source": [
    "a = 'abacate'\n",
    "print ('e' in a, 'x' in a, end = ' ') #True False\n",
    "print ('ate' in a, end = ' ') #True\n",
    "print ('' in a, end = ' ') #False\n",
    "print ('eta' in a, end = ' ') #False\n",
    "print ('eta' not in a) #True"
   ]
  },
  {
   "cell_type": "code",
   "execution_count": 32,
   "metadata": {},
   "outputs": [
    {
     "name": "stdout",
     "output_type": "stream",
     "text": [
      "True "
     ]
    }
   ],
   "source": [
    "print ('' in a, end = ' ') #False"
   ]
  },
  {
   "cell_type": "code",
   "execution_count": 33,
   "metadata": {},
   "outputs": [
    {
     "name": "stdout",
     "output_type": "stream",
     "text": [
      "0 3 9 012 345 678 012 789 02468 9876543210\n"
     ]
    }
   ],
   "source": [
    "a = '0123456789'\n",
    "print (a[0], a[3], a[-1], end = ' ') #0 3 9\n",
    "print (a[0:3], a[3:6], a[6:9], end = ' ') #012 345 678\n",
    "print (a[:3], a[7:], end = ' ') #012 789\n",
    "print (a[:9:2], end = ' ') #02468\n",
    "print (a[::-1]) #9876543210"
   ]
  },
  {
   "cell_type": "code",
   "execution_count": 34,
   "metadata": {},
   "outputs": [
    {
     "name": "stdout",
     "output_type": "stream",
     "text": [
      "True False True False True True\n"
     ]
    }
   ],
   "source": [
    "a = [1, 2, [3, 4]]\n",
    "print (1 in a, end = ' ') #True\n",
    "print ([1, 2] in a, end = ' ') #False\n",
    "print ([3, 4] in a, end = ' ') #True\n",
    "print (3 in a, end = ' ') #False\n",
    "print (3 in a[2], end = ' ') #True\n",
    "print (5 not in a) #True"
   ]
  },
  {
   "cell_type": "code",
   "execution_count": 36,
   "metadata": {},
   "outputs": [
    {
     "name": "stdout",
     "output_type": "stream",
     "text": [
      "True False True False ab 3.14\n"
     ]
    }
   ],
   "source": [
    "a = {1: 'ab', 2: 'cd', 'x':3.14}\n",
    "print (1 in a, 3 in a, end = ' ') #True False\n",
    "print ('x' in a, 'z' in a, end = ' ') #True False\n",
    "print (a[1], a['x']) #'ab' 3.14"
   ]
  },
  {
   "cell_type": "code",
   "execution_count": 37,
   "metadata": {},
   "outputs": [
    {
     "ename": "SyntaxError",
     "evalue": "invalid syntax (<ipython-input-37-d498971dd462>, line 1)",
     "output_type": "error",
     "traceback": [
      "\u001b[0;36m  File \u001b[0;32m\"<ipython-input-37-d498971dd462>\"\u001b[0;36m, line \u001b[0;32m1\u001b[0m\n\u001b[0;31m    a = ?\u001b[0m\n\u001b[0m        ^\u001b[0m\n\u001b[0;31mSyntaxError\u001b[0m\u001b[0;31m:\u001b[0m invalid syntax\n"
     ]
    }
   ],
   "source": [
    "a = ?\n",
    "if a > 10 and a % 6 == 3:\n",
    " print ('A', end = ' ')\n",
    "elif a > 10 and a < 20:\n",
    " print ('B', end = ' ')\n",
    "else: print ('C', end = ' ')"
   ]
  },
  {
   "cell_type": "code",
   "execution_count": 41,
   "metadata": {},
   "outputs": [
    {
     "name": "stdout",
     "output_type": "stream",
     "text": [
      "C "
     ]
    }
   ],
   "source": [
    "#A B N/A\n",
    "#A 15\n",
    "#B 14\n",
    "#C 9\n",
    "#Feliz Natal! N/A\n",
    "a = 9\n",
    "if a > 10 and a % 6 == 3:\n",
    " print ('A', end = ' ')\n",
    "elif a > 10 and a < 20:\n",
    " print ('B', end = ' ')\n",
    "else: print ('C', end = ' ')"
   ]
  },
  {
   "cell_type": "code",
   "execution_count": null,
   "metadata": {},
   "outputs": [],
   "source": [
    "a = 1\n",
    "while a < 10:\n",
    "    print ('X', end = ' ') # X X ... INFINITE"
   ]
  },
  {
   "cell_type": "code",
   "execution_count": 2,
   "metadata": {},
   "outputs": [
    {
     "name": "stdout",
     "output_type": "stream",
     "text": [
      "X X X X "
     ]
    }
   ],
   "source": [
    "a = -1\n",
    "while a < 3:\n",
    " print ('X', end = ' ') # X X X X\n",
    " a = a + 1"
   ]
  },
  {
   "cell_type": "code",
   "execution_count": 4,
   "metadata": {},
   "outputs": [],
   "source": [
    "while False: print ('X', end = ' ') # NOTHING"
   ]
  },
  {
   "cell_type": "code",
   "execution_count": 5,
   "metadata": {},
   "outputs": [
    {
     "name": "stdout",
     "output_type": "stream",
     "text": [
      "X X O X X O X "
     ]
    }
   ],
   "source": [
    "a = 5\n",
    "b = 9\n",
    "while a <= b:\n",
    " print ('X', end = ' ')\n",
    " if a % 2 == 0: print ('O', end = ' ')\n",
    " a = a + 1 # X X O X X 0 X"
   ]
  },
  {
   "cell_type": "code",
   "execution_count": 6,
   "metadata": {},
   "outputs": [
    {
     "name": "stdout",
     "output_type": "stream",
     "text": [
      "O X O O "
     ]
    }
   ],
   "source": [
    "a=1\n",
    "while a % 7 != 0:\n",
    " if a % 2 == 0: print ('O', end = ' ')\n",
    " if a == 2: print ('X', end = ' ')\n",
    " a=a+1 # O X O O "
   ]
  },
  {
   "cell_type": "code",
   "execution_count": 9,
   "metadata": {},
   "outputs": [
    {
     "name": "stdout",
     "output_type": "stream",
     "text": [
      "O O "
     ]
    }
   ],
   "source": [
    "repete = True\n",
    "a=0\n",
    "b=0\n",
    "while repete:\n",
    "    print ('O', end = ' ')\n",
    "    a=a+5\n",
    "    b=b+7\n",
    "    if a + b >= 24:\n",
    "        repete = False # O O"
   ]
  },
  {
   "cell_type": "code",
   "execution_count": 10,
   "metadata": {},
   "outputs": [
    {
     "name": "stdout",
     "output_type": "stream",
     "text": [
      "O O O "
     ]
    }
   ],
   "source": [
    "repete = True\n",
    "a=0\n",
    "b=0\n",
    "while repete:\n",
    "    print ('O', end = ' ')\n",
    "    if a + b >= 24:\n",
    "        repete = False\n",
    "    a=a+5\n",
    "    b=b+7 # O O O"
   ]
  },
  {
   "cell_type": "code",
   "execution_count": 11,
   "metadata": {},
   "outputs": [
    {
     "name": "stdout",
     "output_type": "stream",
     "text": [
      "O O O O "
     ]
    }
   ],
   "source": [
    "repete = True\n",
    "a=0\n",
    "b=0\n",
    "while repete:\n",
    "    print ('O', end = ' ')\n",
    "    if a + b > 24:\n",
    "        repete = False\n",
    "    a=a+5\n",
    "    b=b+7 # O O O O"
   ]
  },
  {
   "cell_type": "code",
   "execution_count": 12,
   "metadata": {},
   "outputs": [
    {
     "name": "stdout",
     "output_type": "stream",
     "text": [
      "X O X O X O "
     ]
    }
   ],
   "source": [
    "a=0\n",
    "while a < 3:\n",
    "    while True:\n",
    "        print ('X', end = ' ')\n",
    "        break\n",
    "    print ('O', end = ' ')\n",
    "    a=a+1 # X O X O X O"
   ]
  },
  {
   "cell_type": "code",
   "execution_count": null,
   "metadata": {},
   "outputs": [],
   "source": [
    "a=1\n",
    "while a < 3:\n",
    "    while a < 3:\n",
    "        print ('O', end = ' ')\n",
    "    a=a+1 # O O ... INFINTE"
   ]
  },
  {
   "cell_type": "code",
   "execution_count": 14,
   "metadata": {},
   "outputs": [
    {
     "name": "stdout",
     "output_type": "stream",
     "text": [
      "O X X O "
     ]
    }
   ],
   "source": [
    "a=1\n",
    "while a < 3:\n",
    "    if a % 2 == 0:\n",
    "        b=1\n",
    "        while b < 3:\n",
    "            print ('X', end = ' ')\n",
    "            b=b+1\n",
    "    print ('O', end = ' ')\n",
    "    a=a+1 # O X X O"
   ]
  },
  {
   "cell_type": "code",
   "execution_count": null,
   "metadata": {},
   "outputs": [],
   "source": [
    "a=1\n",
    "while a < 3:\n",
    "    b=1\n",
    "    while b < 3:\n",
    "        if a == 2:\n",
    "            print ('X', end = ' ')\n",
    "        print ('O', end = ' ')\n",
    "        b=b+1\n",
    "    print ('O', end = ' ') # O O 0 ... INFINITE"
   ]
  },
  {
   "cell_type": "code",
   "execution_count": 16,
   "metadata": {},
   "outputs": [
    {
     "name": "stdout",
     "output_type": "stream",
     "text": [
      "abacate bacate acate cate ate te e "
     ]
    }
   ],
   "source": [
    "x = 'abacate'\n",
    "while x:\n",
    "    print (x, end = ' ')\n",
    "    x = x[1:] # abacate bacate acate cate ate te e"
   ]
  }
 ],
 "metadata": {
  "kernelspec": {
   "display_name": "Python 3",
   "language": "python",
   "name": "python3"
  },
  "language_info": {
   "codemirror_mode": {
    "name": "ipython",
    "version": 3
   },
   "file_extension": ".py",
   "mimetype": "text/x-python",
   "name": "python",
   "nbconvert_exporter": "python",
   "pygments_lexer": "ipython3",
   "version": "3.8.3"
  }
 },
 "nbformat": 4,
 "nbformat_minor": 4
}
