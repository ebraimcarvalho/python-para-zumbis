{
 "cells": [
  {
   "cell_type": "markdown",
   "metadata": {},
   "source": [
    "\n",
    "# Lista de Exercícios I\n",
    "*Link do drive completo: https://www.dropbox.com/sh/m9wio7ock77yowd/AAAR3ogXRJqhd5Uw3NthvS0Ia?dl=0*"
   ]
  },
  {
   "cell_type": "markdown",
   "metadata": {},
   "source": [
    "### 1) Faça um programa que peça dois números inteiros e imprima a soma desses dois números"
   ]
  },
  {
   "cell_type": "code",
   "execution_count": 1,
   "metadata": {
    "scrolled": true
   },
   "outputs": [
    {
     "name": "stdout",
     "output_type": "stream",
     "text": [
      "N1: 5\n",
      "N2: 2\n",
      "A soma de 5 + 2 é: 7\n"
     ]
    }
   ],
   "source": [
    "n1 = int(input('N1: '))\n",
    "n2 = int(input('N2: '))\n",
    "print(f'A soma de {n1} + {n2} é: {n1+n2}')"
   ]
  },
  {
   "cell_type": "markdown",
   "metadata": {},
   "source": [
    "### 2) Escreva um programa que leia um valor em metros e o exiba convertido em milímetros"
   ]
  },
  {
   "cell_type": "code",
   "execution_count": 5,
   "metadata": {
    "scrolled": true
   },
   "outputs": [
    {
     "name": "stdout",
     "output_type": "stream",
     "text": [
      "Metros: 2\n",
      "2 metros é igual a 2000 milímetros.\n"
     ]
    }
   ],
   "source": [
    "metros = int(input('Metros: '))\n",
    "milimetros = metros * 1000\n",
    "print(f'{metros} metros é igual a {milimetros} milímetros.')"
   ]
  },
  {
   "cell_type": "markdown",
   "metadata": {},
   "source": [
    "### 3) Escreva um programa que leia a quantidade de dias, horas, minutos e segundos do usuário. Calcule o total em segundos."
   ]
  },
  {
   "cell_type": "code",
   "execution_count": 7,
   "metadata": {},
   "outputs": [
    {
     "name": "stdout",
     "output_type": "stream",
     "text": [
      "Dias: 1\n",
      "Horas: 1\n",
      "Minutos: 1\n",
      "Segundos: 1\n",
      "Tempo total em segundos: 90061\n"
     ]
    }
   ],
   "source": [
    "dias = int(input('Dias: '))\n",
    "horas = int(input('Horas: '))\n",
    "minutos = int(input('Minutos: '))\n",
    "segundos = int(input('Segundos: '))\n",
    "total_segundos = (dias * 86400) + (horas * 3600) + (minutos * 60) + segundos\n",
    "print(f'Tempo total em segundos: {total_segundos}')"
   ]
  },
  {
   "cell_type": "markdown",
   "metadata": {},
   "source": [
    "### 4) Faça um programa que calcule o aumento de um salário. Ele deve solicitar o valor do salário e a porcentagem do aumento. Exiba o valor do aumento e do novo salário."
   ]
  },
  {
   "cell_type": "code",
   "execution_count": 13,
   "metadata": {},
   "outputs": [
    {
     "name": "stdout",
     "output_type": "stream",
     "text": [
      "Salário atual: 1122.50\n",
      "Percentual de aumento: 9.88\n",
      "O salário novo teve um aumento de 9.88% e terá o valor de R$1233.40\n"
     ]
    }
   ],
   "source": [
    "salario_antigo = float(input('Salário atual: '))\n",
    "porcentagem_aumento = float(input('Percentual de aumento: '))\n",
    "salario_novo = salario_antigo + (salario_antigo * porcentagem_aumento / 100)\n",
    "print(f'O salário novo teve um aumento de {porcentagem_aumento:.2f}% e terá o valor de R${salario_novo:.2f}')"
   ]
  },
  {
   "cell_type": "markdown",
   "metadata": {},
   "source": [
    "### 5) Solicite o preço de uma mercadoria e o percentual de desconto. Exiba o valor do desconto e o preço a pagar."
   ]
  },
  {
   "cell_type": "code",
   "execution_count": 12,
   "metadata": {},
   "outputs": [
    {
     "name": "stdout",
     "output_type": "stream",
     "text": [
      "Valor da mercadoria: 12.45\n",
      "Percentual Desconto: 9.87\n",
      "O valor a ser pago é de R$11.22\n"
     ]
    }
   ],
   "source": [
    "valor_mercadoria = float(input('Valor da mercadoria: '))\n",
    "percentual_desconto = float(input('Percentual Desconto: '))\n",
    "valor_a_pagar = valor_mercadoria - (valor_mercadoria * percentual_desconto / 100)\n",
    "print(f'O valor a ser pago é de R${valor_a_pagar:.2f}')"
   ]
  },
  {
   "cell_type": "markdown",
   "metadata": {},
   "source": [
    "### 6) Calcule o tempo de uma viagem de carro. Pergunte a distância a percorrer e a velocidade média esperada para a viagem."
   ]
  },
  {
   "cell_type": "code",
   "execution_count": 17,
   "metadata": {},
   "outputs": [
    {
     "name": "stdout",
     "output_type": "stream",
     "text": [
      "Qual a distância em km? 638\n",
      "Qual a velocidade média esperada?(km/h) 90\n",
      "O tempo da viagem será de 7.09 horas\n"
     ]
    }
   ],
   "source": [
    "distancia = int(input('Qual a distância em km? '))\n",
    "velocidade = int(input('Qual a velocidade média esperada?(km/h) '))\n",
    "tempo = distancia / velocidade\n",
    "print(f'O tempo da viagem será de {tempo:.2f} horas')"
   ]
  },
  {
   "cell_type": "markdown",
   "metadata": {},
   "source": [
    "### 7) Converta uma temperatura digitada em Celsius para Fahrenheit. F = 9*C /5 + 32"
   ]
  },
  {
   "cell_type": "code",
   "execution_count": 18,
   "metadata": {},
   "outputs": [
    {
     "name": "stdout",
     "output_type": "stream",
     "text": [
      "Digite a temperatura em Celsius: 25\n",
      "A temperatura de 25ºC é igual a 77.0ºF\n"
     ]
    }
   ],
   "source": [
    "celsius = int(input('Digite a temperatura em Celsius: '))\n",
    "fahrenheit = (9 * celsius / 5) + 32\n",
    "print(f'A temperatura de {celsius}ºC é igual a {fahrenheit}ºF')"
   ]
  },
  {
   "cell_type": "markdown",
   "metadata": {},
   "source": [
    "### 8) Faça agora o contrário, de Fahrenheit para Celsius."
   ]
  },
  {
   "cell_type": "code",
   "execution_count": 19,
   "metadata": {},
   "outputs": [
    {
     "name": "stdout",
     "output_type": "stream",
     "text": [
      "Digite a temperatura em Fahrenheit: 77\n",
      "A temperatura de 77ºF é igual a 25.0ºC\n"
     ]
    }
   ],
   "source": [
    "fahrenheit = int(input('Digite a temperatura em Fahrenheit: '))\n",
    "celsius = (fahrenheit - 32) * 5 / 9\n",
    "print(f'A temperatura de {fahrenheit}ºF é igual a {celsius}ºC')"
   ]
  },
  {
   "cell_type": "markdown",
   "metadata": {},
   "source": [
    "### 9) Escreva um programa que pergunte a quantidade de km percorridos por um carro alugado pelo usuário, assim como a quantidade de dias pelos quais o carro foi alugado. Calcule o preço a pagar, sabendo que o carro custa 60,00 por dia e 0,15 por km rodado."
   ]
  },
  {
   "cell_type": "code",
   "execution_count": 20,
   "metadata": {},
   "outputs": [
    {
     "name": "stdout",
     "output_type": "stream",
     "text": [
      "Qual a quantidade de kms percorridos? 10\n",
      "Quantos dias o carro foi alugado por você? 1\n",
      "O valor a pagar é de 61.50\n"
     ]
    }
   ],
   "source": [
    "distancia = int(input('Qual a quantidade de kms percorridos? '))\n",
    "dias = int(input('Quantos dias o carro foi alugado por você? '))\n",
    "valor = (dias * 60) + (distancia * 0.15)\n",
    "print(f'O valor a pagar é de {valor:.2f}')"
   ]
  },
  {
   "cell_type": "markdown",
   "metadata": {},
   "source": [
    "### 10) Escreva um programa para calcular a redução do tempo de vida de um fumante. Pergunte a quantidade de cigarros fumados por dia e quantos anos ele já fumou. Considere que um fumante perde 10 minutos de vida a cada cigarro, calcule quantos dias de vida um fumante perderá. Exiba o total de dias."
   ]
  },
  {
   "cell_type": "code",
   "execution_count": 31,
   "metadata": {},
   "outputs": [
    {
     "name": "stdout",
     "output_type": "stream",
     "text": [
      "Quantos cigarros são fumados por dia? 10\n",
      "Quantos anos você já fumou? 10\n",
      "O fumante terá perdido 253 dias por ter fumado 36500 cigarros num período de 10 anos\n"
     ]
    }
   ],
   "source": [
    "cigarros_dia = int(input('Quantos cigarros são fumados por dia? '))\n",
    "anos = int(input('Quantos anos você já fumou? '))\n",
    "cigarros_total = cigarros_dia * anos * 365\n",
    "dias_perdidos = (cigarros_total * 10) / 60 / 24\n",
    "ano = \"ano\" if anos == 1 else \"anos\"\n",
    "print(f'O fumante terá perdido {dias_perdidos:.0f} dias por ter fumado {cigarros_total} cigarros num período de {anos} {ano}')"
   ]
  },
  {
   "cell_type": "markdown",
   "metadata": {},
   "source": [
    "### 11) Sabendo que str( ) converte valores numéricos para string, calcule quantos dígitos há em 2 elevado a um milhão."
   ]
  },
  {
   "cell_type": "code",
   "execution_count": 30,
   "metadata": {},
   "outputs": [
    {
     "name": "stdout",
     "output_type": "stream",
     "text": [
      "2 elevado a 1.000.000 contém 301030 dígitos\n"
     ]
    }
   ],
   "source": [
    "valor = str(2 ** 1000000)\n",
    "print(f'2 elevado a 1.000.000 contém {len(valor)} dígitos')"
   ]
  }
 ],
 "metadata": {
  "kernelspec": {
   "display_name": "Python 3",
   "language": "python",
   "name": "python3"
  },
  "language_info": {
   "codemirror_mode": {
    "name": "ipython",
    "version": 3
   },
   "file_extension": ".py",
   "mimetype": "text/x-python",
   "name": "python",
   "nbconvert_exporter": "python",
   "pygments_lexer": "ipython3",
   "version": "3.8.3"
  }
 },
 "nbformat": 4,
 "nbformat_minor": 4
}
