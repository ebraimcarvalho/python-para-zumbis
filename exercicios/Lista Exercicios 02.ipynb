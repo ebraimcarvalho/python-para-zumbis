{
 "cells": [
  {
   "cell_type": "markdown",
   "metadata": {},
   "source": [
    "\n",
    "# Lista de Exercícios 2\n",
    "*Link do drive completo: https://www.dropbox.com/sh/m9wio7ock77yowd/AAAR3ogXRJqhd5Uw3NthvS0Ia?dl=0*"
   ]
  },
  {
   "cell_type": "markdown",
   "metadata": {},
   "source": [
    "### 1) Faça um Programa que peça os três lados de um triângulo. O programa deverá informar se os valores podem ser um triângulo. Indique, caso os lados formem um triângulo, se o mesmo é: equilátero, isósceles ou escaleno."
   ]
  },
  {
   "cell_type": "code",
   "execution_count": 40,
   "metadata": {
    "scrolled": true
   },
   "outputs": [
    {
     "name": "stdout",
     "output_type": "stream",
     "text": [
      "Lado 1: 5\n",
      "Lado 2: 4\n",
      "Lado 3: 5\n",
      "O triângulo é Isósceles!\n"
     ]
    }
   ],
   "source": [
    "l1 = int(input('Lado 1: '))\n",
    "l2 = int(input('Lado 2: '))\n",
    "l3 = int(input('Lado 3: '))\n",
    "if l1 > l2 + l3 or l2 > l1 + l3 or l3 > l1 + l2:\n",
    "    print('Não pode ser um triângulo! Um dos lados é maior que a soma dos outros dois!')\n",
    "elif l1 == l2 == l3:\n",
    "    print('O triângulo é Equilátero!')\n",
    "elif l1 == l2 or l1 == l3 or l2 == l3:\n",
    "    print('O triângulo é Isósceles!')\n",
    "else:\n",
    "    print('O triângulo é Escaleno!')"
   ]
  },
  {
   "cell_type": "markdown",
   "metadata": {},
   "source": [
    "### 2) Determine se um ano é bissexto. Verifique no Google como fazer isso..."
   ]
  },
  {
   "cell_type": "code",
   "execution_count": 11,
   "metadata": {
    "scrolled": true
   },
   "outputs": [
    {
     "name": "stdout",
     "output_type": "stream",
     "text": [
      "Digite o ano para verificar se é Bissexto: 2001\n",
      "O ano 2001 não é um ano bissexto!\n"
     ]
    }
   ],
   "source": [
    "import calendar\n",
    "ano = int(input('Digite o ano para verificar se é Bissexto: '))\n",
    "bissexto = \"é\" if calendar.isleap(ano) else \"não é\"\n",
    "print(f'O ano {ano} {bissexto} um ano bissexto!')"
   ]
  },
  {
   "cell_type": "markdown",
   "metadata": {},
   "source": [
    "### 3) João Papo-de-Pescador, homem de bem, comprou um microcomputador para controlar o rendimento diário de seu trabalho. Toda vez que ele traz um peso de peixes maior que o estabelecido pelo regulamento de pesca do estado de São Paulo (50 quilos) deve pagar uma multa de 4,00 por quilo excedente. João precisa que você faça um programa que leia a variável peso (peso de peixes) e verifique se há excesso. Se houver, gravar na variável excesso e na variável multa o valor da multa que João deverá pagar. Caso contrário mostrar tais variáveis com o conteúdo ZERO."
   ]
  },
  {
   "cell_type": "code",
   "execution_count": 44,
   "metadata": {},
   "outputs": [
    {
     "name": "stdout",
     "output_type": "stream",
     "text": [
      "Quantos kgs de peixe foram pescados? 50.5\n",
      "A pesca teve um excesso de 0.5kg e o valor da multa é de R$2.00\n"
     ]
    }
   ],
   "source": [
    "peso = float(input('Quantos kgs de peixe foram pescados? '))\n",
    "if peso > 50:\n",
    "    excesso = peso - 50\n",
    "    multa = excesso * 4\n",
    "else:\n",
    "    excesso = multa = 0\n",
    "print(f'A pesca teve um excesso de {excesso}kg e o valor da multa é de R${multa:.2f}')"
   ]
  },
  {
   "cell_type": "markdown",
   "metadata": {},
   "source": [
    "### 4) Faça um Programa que leia três números e mostre o maior deles."
   ]
  },
  {
   "cell_type": "code",
   "execution_count": 48,
   "metadata": {},
   "outputs": [
    {
     "name": "stdout",
     "output_type": "stream",
     "text": [
      "Número 1: 1\n",
      "Número 2: 2\n",
      "Número 3: 55\n",
      "O maior número entre os três é 55\n"
     ]
    }
   ],
   "source": [
    "n1 = int(input('Número 1: '))\n",
    "n2 = int(input('Número 2: '))\n",
    "n3 = int(input('Número 3: '))\n",
    "if n1 >= n2 and n1 >= n3:\n",
    "    maior = n1\n",
    "elif n2 >= n3:\n",
    "    maior = n2\n",
    "else:\n",
    "    maior = n3\n",
    "if maior:\n",
    "    print(f'O maior número entre os três é {maior}')"
   ]
  },
  {
   "cell_type": "markdown",
   "metadata": {},
   "source": [
    "### 5) Faça um Programa que leia três números e mostre o maior e o menor deles."
   ]
  },
  {
   "cell_type": "code",
   "execution_count": 26,
   "metadata": {},
   "outputs": [
    {
     "name": "stdout",
     "output_type": "stream",
     "text": [
      "Número 1: 2\n",
      "Número 2: 2\n",
      "Número 3: 2\n",
      "Os números são iguais\n"
     ]
    }
   ],
   "source": [
    "n1 = int(input('Número 1: '))\n",
    "n2 = int(input('Número 2: '))\n",
    "n3 = int(input('Número 3: '))\n",
    "maior = max(n1, n2, n3)\n",
    "menor = min(n1, n2, n3)\n",
    "if maior != menor:\n",
    "    print(f'O maior é {maior} e o menor é {menor}')\n",
    "else:\n",
    "    print('Os números são iguais')"
   ]
  },
  {
   "cell_type": "markdown",
   "metadata": {},
   "source": [
    "### 6) Faça um Programa que pergunte quanto você ganha por hora e o número de horas trabalhadas no mês. Calcule e mostre o total do seu salário no referido mês, sabendo - se que são descontados 11% para o Imposto de Renda, 8% para o INSS e 5% para o sindicato, faça um programa que nos dê o salário bruto, quanto pagou ao INSS, quanto pagou ao sindicato e o salário líquido. Observe que Salário Bruto - Descontos = Salário Líquido. Calcule os descontos e o salário líquido, conforme a tabela abaixo:\n",
    "\n",
    "a. + Salário Bruto : R$\n",
    "\n",
    "b. - IR (11%) : R$\n",
    "\n",
    "c. - INSS (8%) : R$\n",
    "\n",
    "d. - Sindicato ( 5%) : R$\n",
    "\n",
    "e. = Salário Liquido : R$"
   ]
  },
  {
   "cell_type": "code",
   "execution_count": 31,
   "metadata": {},
   "outputs": [
    {
     "name": "stdout",
     "output_type": "stream",
     "text": [
      "Quanto você ganha por hora? 100\n",
      "Quantas horas você trabalhou no mês? 10\n",
      "a. + Salário Bruto: R$ 1000.00\n",
      "b. - IR (11%): R$ 110.00\n",
      "c. - INSS (8%): R$ 80.00\n",
      "d. - Sindicato (5%): R$ 50.00\n",
      "e. = Salário Líquido: R$ 760.00\n"
     ]
    }
   ],
   "source": [
    "valor_hora = float(input('Quanto você ganha por hora? '))\n",
    "horas_trabalhadas = int(input('Quantas horas você trabalhou no mês? '))\n",
    "salario_bruto = valor_hora * horas_trabalhadas\n",
    "ir = salario_bruto * 11/100\n",
    "inss = salario_bruto * 8/100\n",
    "sindicato = salario_bruto * 5/100\n",
    "salario_liquido = salario_bruto - ir - inss - sindicato\n",
    "print(f'a. + Salário Bruto: R$ {salario_bruto:.2f}\\nb. - IR (11%): R$ {ir:.2f}\\nc. - INSS (8%): R$ {inss:.2f}\\nd. - Sindicato (5%): R$ {sindicato:.2f}\\ne. = Salário Líquido: R$ {salario_liquido:.2f}')"
   ]
  },
  {
   "cell_type": "markdown",
   "metadata": {},
   "source": [
    "### 7) Faça um programa para uma loja de tintas. O programa deverá pedir o tamanho em metros quadrados da área a ser pintada. Considere que a cobertura da tinta é de 1 litro para cada 3 metros quadrados e que a tinta é vendida em latas de 18 litros, que custam 80,00. Informe ao usuário a quantidades de latas de tinta a serem compradas e o preço total. Obs. : somente são vendidos um número inteiro de latas.\n"
   ]
  },
  {
   "cell_type": "code",
   "execution_count": 52,
   "metadata": {},
   "outputs": [
    {
     "name": "stdout",
     "output_type": "stream",
     "text": [
      "Quantos metros precisam ser pintados? 88\n",
      "Será preciso 2 latas e o valor total é de R$ 160.00\n"
     ]
    }
   ],
   "source": [
    "metros = int(input('Quantos metros precisam ser pintados? '))\n",
    "cobertura_lata = 18 * 3\n",
    "if metros % cobertura_lata == 0:\n",
    "    latas = metros / cobertura_lata\n",
    "else:\n",
    "    latas = int(metros / cobertura_lata) + 1\n",
    "valor = latas * 80\n",
    "print(f'Será preciso {latas:.0f} latas e o valor total é de R$ {valor:.2f}')"
   ]
  }
 ],
 "metadata": {
  "kernelspec": {
   "display_name": "Python 3",
   "language": "python",
   "name": "python3"
  },
  "language_info": {
   "codemirror_mode": {
    "name": "ipython",
    "version": 3
   },
   "file_extension": ".py",
   "mimetype": "text/x-python",
   "name": "python",
   "nbconvert_exporter": "python",
   "pygments_lexer": "ipython3",
   "version": "3.8.3"
  }
 },
 "nbformat": 4,
 "nbformat_minor": 4
}
