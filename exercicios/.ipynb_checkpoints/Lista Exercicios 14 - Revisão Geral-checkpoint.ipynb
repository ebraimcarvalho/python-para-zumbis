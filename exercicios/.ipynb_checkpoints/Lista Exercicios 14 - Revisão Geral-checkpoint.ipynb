{
 "cells": [
  {
   "cell_type": "markdown",
   "metadata": {},
   "source": [
    "# Lista de Exercícios 14 - Revisão Geral\n",
    "*Link do drive completo: https://www.dropbox.com/sh/m9wio7ock77yowd/AAAR3ogXRJqhd5Uw3NthvS0Ia?dl=0*"
   ]
  },
  {
   "cell_type": "code",
   "execution_count": 9,
   "metadata": {},
   "outputs": [
    {
     "name": "stdout",
     "output_type": "stream",
     "text": [
      "True\n",
      "0.3333333333333333\n",
      "0\n",
      "False\n",
      "False\n",
      "2.0\n",
      "2\n",
      "True\n",
      "False\n",
      "True\n",
      "False\n"
     ]
    }
   ],
   "source": [
    "print(3 == 3.0)\n",
    "print(1/3)\n",
    "print(1//3)\n",
    "print (3 == '3')\n",
    "print ('x' != 'x')\n",
    "print (2/1)\n",
    "print (2//1)\n",
    "print (not False)\n",
    "print (not True)\n",
    "print (not 0)\n",
    "print (True and (False or not True))"
   ]
  },
  {
   "cell_type": "code",
   "execution_count": 10,
   "metadata": {},
   "outputs": [
    {
     "name": "stdout",
     "output_type": "stream",
     "text": [
      "<class 'int'>\n",
      "<class 'float'>\n",
      "<class 'float'>\n",
      "<class 'str'>\n",
      "<class 'bool'>\n",
      "<class 'float'>\n",
      "<class 'int'>\n",
      "<class 'int'>\n",
      "<class 'int'>\n",
      "<class 'bool'>\n",
      "<class 'bool'>\n",
      "<class 'bool'>\n"
     ]
    }
   ],
   "source": [
    "print (type(0)) #int\n",
    "print (type(0.0)) #float\n",
    "print (type(3.14)) #float\n",
    "print (type('Py')) #str\n",
    "print (type(True)) #bool\n",
    "print (type(1/2)) #float\n",
    "print (type(1//2)) #int\n",
    "print (type(2//1)) #int\n",
    "print (type(3**3)) #int\n",
    "print (type(0==0)) #bool\n",
    "print (type(3<0)) #bool\n",
    "print (type(3!=3)) #bool"
   ]
  },
  {
   "cell_type": "code",
   "execution_count": 11,
   "metadata": {},
   "outputs": [
    {
     "name": "stdout",
     "output_type": "stream",
     "text": [
      "12\n"
     ]
    }
   ],
   "source": [
    "a = 5\n",
    "b = a + 7\n",
    "a = 10\n",
    "print (b) #12"
   ]
  },
  {
   "cell_type": "code",
   "execution_count": 12,
   "metadata": {},
   "outputs": [
    {
     "name": "stdout",
     "output_type": "stream",
     "text": [
      "x x "
     ]
    }
   ],
   "source": [
    "print ('x', end = ' ')\n",
    "print ('x', end = ' ') # x x"
   ]
  },
  {
   "cell_type": "code",
   "execution_count": 13,
   "metadata": {},
   "outputs": [
    {
     "name": "stdout",
     "output_type": "stream",
     "text": [
      "<class 'str'>\n"
     ]
    }
   ],
   "source": [
    "print (type(str(int(3.14159265358979)))) #str"
   ]
  },
  {
   "cell_type": "code",
   "execution_count": 14,
   "metadata": {},
   "outputs": [
    {
     "name": "stdout",
     "output_type": "stream",
     "text": [
      "10 20 "
     ]
    }
   ],
   "source": [
    "a = 20\n",
    "print (15-(a-15), end = ' ') #10\n",
    "a = 10\n",
    "print (15-(a-15), end = ' ') #20"
   ]
  },
  {
   "cell_type": "code",
   "execution_count": 21,
   "metadata": {},
   "outputs": [
    {
     "name": "stdout",
     "output_type": "stream",
     "text": [
      "0.75 75\n"
     ]
    }
   ],
   "source": [
    "a = 12.75\n",
    "print (a - int(a), end = ' ') #0.75\n",
    "a = int((a - int(a))*100) #75\n",
    "print (a)"
   ]
  },
  {
   "cell_type": "code",
   "execution_count": 20,
   "metadata": {},
   "outputs": [
    {
     "name": "stdout",
     "output_type": "stream",
     "text": [
      "4 3\n"
     ]
    }
   ],
   "source": [
    "a = 3\n",
    "b = 4\n",
    "a = a + b #7\n",
    "b = a - b #3\n",
    "a = a - b #4\n",
    "print (a, b) #4, 3"
   ]
  },
  {
   "cell_type": "code",
   "execution_count": 23,
   "metadata": {},
   "outputs": [
    {
     "name": "stdout",
     "output_type": "stream",
     "text": [
      "1\n",
      "0\n",
      "123\n"
     ]
    }
   ],
   "source": [
    "print (3 % 2) #1\n",
    "print (0 % 2) #0\n",
    "print (123%356254) #123"
   ]
  }
 ],
 "metadata": {
  "kernelspec": {
   "display_name": "Python 3",
   "language": "python",
   "name": "python3"
  },
  "language_info": {
   "codemirror_mode": {
    "name": "ipython",
    "version": 3
   },
   "file_extension": ".py",
   "mimetype": "text/x-python",
   "name": "python",
   "nbconvert_exporter": "python",
   "pygments_lexer": "ipython3",
   "version": "3.8.3"
  }
 },
 "nbformat": 4,
 "nbformat_minor": 4
}
