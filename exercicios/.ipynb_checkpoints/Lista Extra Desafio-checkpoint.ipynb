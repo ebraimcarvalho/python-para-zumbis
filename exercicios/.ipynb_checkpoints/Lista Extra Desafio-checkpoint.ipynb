{
 "cells": [
  {
   "cell_type": "markdown",
   "metadata": {},
   "source": [
    "# Lista Extra Desafio\n",
    "*Link do drive completo: https://www.dropbox.com/sh/m9wio7ock77yowd/AAAR3ogXRJqhd5Uw3NthvS0Ia?dl=0*"
   ]
  },
  {
   "cell_type": "markdown",
   "metadata": {},
   "source": [
    "Lista Extra (não valem ponto). Entrega opcional.\n",
    "\n",
    "Questão A (Vestibular FATEC 2008).\n",
    "\n",
    "Uma escola do Ensino Fundamental ofereceu a alguns de seus alunos um passeio ao zoológico. Para tanto, a escola\n",
    "pretende gastar EXATAMENTE 93 reais e sabe que o ingresso do zoológico custa 5 reais para os menores de 12 anos e 7 reais os que têm 12 anos ou mais. Elabore um algoritmo que retorne o número máximo de alunos que a escola pode levar ao zoológico considerando todos os valores como inteiros. O seu programa deve ter uma abordagem genérica e não levar em conta peculiaridades nos dados fornecidos.\n",
    "\n",
    "Questão B.\n",
    "\n",
    "Conversor de decimal para romano.\n",
    "Você deverá programar um algoritmo em Python que traduza um número lido no sistema arábico para romano. Evite fazer muitos “ifs”. A idéia é usar um comando while para analisar cada casa decimal e gerar os caracteres romanos diferentemente para cada iteração. Exemplo 2011 = MMXI em romano. Não precisa testar até o infinito, basta de 1 até 2013.\n",
    "\n",
    "Questão C.\n",
    "\n",
    "Faça um programa que calcule o valor aproximado de pi com n termos, segundo a fórmula abaixo.\n",
    "No exemplo são visíveis 4 termos.\n",
    "\n",
    "```\n",
    "pi = 4 - 4 + 4 - 4\n",
    "     1   3   5   7\n",
    "```\n"
   ]
  },
  {
   "cell_type": "code",
   "execution_count": 22,
   "metadata": {},
   "outputs": [],
   "source": [
    "def vestibular():\n",
    "    t = 99\n",
    "    p = t // 5\n",
    "    while (t - p * 5) % 7 != 0:\n",
    "        p = p - 1\n",
    "    g = (t - p * 5) // 7\n",
    "    return f'{p} ingressos para menores de 12 anos e {g} ingressos para maiores de 12 anos'"
   ]
  },
  {
   "cell_type": "code",
   "execution_count": 23,
   "metadata": {},
   "outputs": [
    {
     "data": {
      "text/plain": [
       "'17 ingressos para menores de 12 anos e 2 ingressos para maiores de 12 anos'"
      ]
     },
     "execution_count": 23,
     "metadata": {},
     "output_type": "execute_result"
    }
   ],
   "source": [
    "vestibular()"
   ]
  }
 ],
 "metadata": {
  "kernelspec": {
   "display_name": "Python 3",
   "language": "python",
   "name": "python3"
  },
  "language_info": {
   "codemirror_mode": {
    "name": "ipython",
    "version": 3
   },
   "file_extension": ".py",
   "mimetype": "text/x-python",
   "name": "python",
   "nbconvert_exporter": "python",
   "pygments_lexer": "ipython3",
   "version": "3.8.3"
  }
 },
 "nbformat": 4,
 "nbformat_minor": 4
}
