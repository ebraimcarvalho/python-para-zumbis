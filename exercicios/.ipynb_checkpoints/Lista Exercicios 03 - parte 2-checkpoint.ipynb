{
 "cells": [
  {
   "cell_type": "markdown",
   "metadata": {},
   "source": [
    "\n",
    "# Lista de Exercícios 3 - Parte 2\n",
    "*Link do drive completo: https://www.dropbox.com/sh/m9wio7ock77yowd/AAAR3ogXRJqhd5Uw3NthvS0Ia?dl=0*"
   ]
  },
  {
   "cell_type": "markdown",
   "metadata": {},
   "source": [
    "### 1) Dizemos que um número natural é triangular se ele é produto de três números naturais consecutivos. Exemplo: 120 é triangular, pois 4.5.6 = 120. Dado um inteiro não - negativo n, verificar se n é triangular."
   ]
  },
  {
   "cell_type": "code",
   "execution_count": 14,
   "metadata": {
    "scrolled": true
   },
   "outputs": [
    {
     "name": "stdout",
     "output_type": "stream",
     "text": [
      "Digite um número: 120\n",
      "É triangular?  True\n"
     ]
    }
   ],
   "source": [
    "n = int(input('Digite um número: '))\n",
    "k = 1\n",
    "while k * (k + 1) * (k * 2) < n:\n",
    "    k = k + 1\n",
    "print('É triangular? ', k*(k+1)*(k+2) == n)"
   ]
  },
  {
   "cell_type": "markdown",
   "metadata": {},
   "source": [
    "### 2) Indique como um troco deve ser dado utilizando - se um número mínimo de notas. Seu algoritmo deve ler o valor da conta a ser paga e o valor do pagamento efetuado desprezando os centavos. Suponha que as notas para troco sejam as de 50, 20, 10, 5, 2 e 1 reais, e que nenhuma delas esteja em falta no caixa."
   ]
  },
  {
   "cell_type": "code",
   "execution_count": 7,
   "metadata": {
    "scrolled": true
   },
   "outputs": [
    {
     "name": "stdout",
     "output_type": "stream",
     "text": [
      "Valor da compra: 22\n",
      "Valor pago: 100\n",
      "['1 notas de R$50,00', '1 notas de R$20,00', '0 notas de R$10,00', '1 notas de R$5,00', '1 notas de R$2,00', '1 notas de R$1,00']\n"
     ]
    }
   ],
   "source": [
    "compra = int(input('Valor da compra: '))\n",
    "valor_pago = int(input('Valor pago: '))\n",
    "troco = valor_pago - compra\n",
    "notas = [50, 20, 10, 5, 2, 1]\n",
    "resultado = []\n",
    "for nota in notas:\n",
    "    i = 0\n",
    "    while troco >= nota:\n",
    "        troco -= nota\n",
    "        i += 1\n",
    "    resultado.append(f'{i} notas de R${nota},00')\n",
    "print(resultado)\n",
    "        \n"
   ]
  },
  {
   "cell_type": "markdown",
   "metadata": {},
   "source": [
    "### 3) Verifique se um inteiro positivo n é primo.\n"
   ]
  },
  {
   "cell_type": "code",
   "execution_count": 12,
   "metadata": {},
   "outputs": [
    {
     "name": "stdout",
     "output_type": "stream",
     "text": [
      "Digite um valor: 277\n",
      "É primo?  True\n"
     ]
    }
   ],
   "source": [
    "n = int(input('Digite um valor: '))\n",
    "k = 1\n",
    "divisores = 0\n",
    "while k <= n:\n",
    "    if n % k == 0:\n",
    "        divisores += 1\n",
    "    k += 1\n",
    "print('É primo? ', divisores == 2)\n"
   ]
  },
  {
   "cell_type": "markdown",
   "metadata": {},
   "source": [
    "### 4) Dado um número inteiro positivo, determine a sua decomposição em fatores primos calculando também a multiplicidade de cada fator."
   ]
  },
  {
   "cell_type": "code",
   "execution_count": 19,
   "metadata": {},
   "outputs": [
    {
     "name": "stdout",
     "output_type": "stream",
     "text": [
      "Valor: 50\n",
      "2\n",
      "5\n",
      "5\n"
     ]
    }
   ],
   "source": [
    "n = int(input('Valor: '))\n",
    "for k in range(2, n):\n",
    "    while n % k == 0:\n",
    "        print(k)\n",
    "        n = n / k"
   ]
  },
  {
   "cell_type": "markdown",
   "metadata": {},
   "source": [
    "### 5) Faça um programa que peça um inteiro positivo e o mostre invertido. Ex.: 1234 gera 4321"
   ]
  },
  {
   "cell_type": "code",
   "execution_count": 15,
   "metadata": {},
   "outputs": [
    {
     "name": "stdout",
     "output_type": "stream",
     "text": [
      "Valor: 1234\n",
      "4321\n"
     ]
    }
   ],
   "source": [
    "n = input('Valor: ')\n",
    "resultado = ''\n",
    "i = len(n)\n",
    "while i > 0:\n",
    "    resultado = resultado + n[i-1]\n",
    "    i -= 1\n",
    "print(resultado)"
   ]
  },
  {
   "cell_type": "code",
   "execution_count": 20,
   "metadata": {},
   "outputs": [
    {
     "name": "stdout",
     "output_type": "stream",
     "text": [
      "Valor a ser invertido: 1234\n",
      "4321\n"
     ]
    }
   ],
   "source": [
    "n = input('Valor a ser invertido: ')\n",
    "n = n[::-1]\n",
    "print(n)"
   ]
  }
 ],
 "metadata": {
  "kernelspec": {
   "display_name": "Python 3",
   "language": "python",
   "name": "python3"
  },
  "language_info": {
   "codemirror_mode": {
    "name": "ipython",
    "version": 3
   },
   "file_extension": ".py",
   "mimetype": "text/x-python",
   "name": "python",
   "nbconvert_exporter": "python",
   "pygments_lexer": "ipython3",
   "version": "3.8.3"
  }
 },
 "nbformat": 4,
 "nbformat_minor": 4
}
