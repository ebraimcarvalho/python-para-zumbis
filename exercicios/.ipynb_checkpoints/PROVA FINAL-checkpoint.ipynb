{
 "cells": [
  {
   "cell_type": "markdown",
   "metadata": {},
   "source": [
    "# PROVA FINAL\n",
    "*Link do drive completo: https://www.dropbox.com/sh/m9wio7ock77yowd/AAAR3ogXRJqhd5Uw3NthvS0Ia?dl=0*"
   ]
  },
  {
   "cell_type": "code",
   "execution_count": 81,
   "metadata": {},
   "outputs": [
    {
     "name": "stdout",
     "output_type": "stream",
     "text": [
      "Pontos: 100/100\n"
     ]
    }
   ],
   "source": [
    "# Prova Final do PPZ. Prazo de entrega: meia noite do dia  31 de agosto.\n",
    "# Esta provinha deve ser feita em Python 3.  Procure utilizar alguma IDE\n",
    "# que permita caracteres especiais. O IDLE do Python 3 é suficiente para\n",
    "# isso. Você poderá  consultar  suas anotações pessoais ou qualquer docu-\n",
    "# mentação sobre a sintaxe do Python  e suas bibliotecas. No entanto não\n",
    "# será permitida a consulta dos vídeos explicando as listas e  nem do có-\n",
    "# digo fonte de sua resolução, seja qual for sua origem. A pontuação mí-\n",
    "# nima é de 60 pontos. Boa sorte! Obs: a identação abaixo é de 2 espaços\n",
    "# ATENÇÃO: sempre visando o aprendizado do aluno não será tolerado o plá-\n",
    "# gio. Caso você queira trocar alguma ideia com um colega, faça isso ape-\n",
    "# nas verbalmente e de forma genérica, sem  troca de código, no fórum de\n",
    "# discussão. Certifique-se  de  construir  as  respostas  desde  o zero,\n",
    "# copiando você não irá aprender, que é o que realmente importa no curso.\n",
    "# O código sangrando ou em Python 2.x não poderá ser processado pelo nos-\n",
    "# so script de correção automática. Entregue um único código fonte. Cada\n",
    "# questão vale 5 pontos. Lembre  que você  poderá enviar seu código, com\n",
    "# suas dúvidas para socorro@pycursos.com e  receberá ajuda. Somos poucos\n",
    "# para responder, portanto  talvez a resposta não seja imediata, aguarde,\n",
    "# por favor. Novamente boa sorte e bom aprendizado!\n",
    "\n",
    "# alô_mundo\n",
    "# retorne 'Alô Mundo' para não ficar com zero na provinha\n",
    "def alô_mundo():\n",
    "    return 'Alô Mundo'\n",
    "\n",
    "# chinês\n",
    "# converta uma string msg para chinês\n",
    "# para isso faça um deslocamento de 30000 em cada caracter\n",
    "# chinês('Zumbi') -> '疊疥疝疒疙'\n",
    "def chinês(msg):\n",
    "    result = ''\n",
    "    for x in msg:\n",
    "        result += chr(ord(x)+30000)\n",
    "    #return result # Resposta convencional\n",
    "    return ''.join([chr(ord(x)+30000) for x in msg ]) # Resposta utilizando list compreenssion\n",
    "\n",
    "# anagrama\n",
    "# verifique se duas strings s1 e s2 são anagramas\n",
    "# anagrama('aberto', 'rebato') -> True\n",
    "# anagrama('roma', 'amor') -> True\n",
    "# anagrama('asa', 'assa') -> False\n",
    "# é possível uma solução com uma única linha\n",
    "def anagrama(s1, s2):\n",
    "    return sorted(s1) == sorted(s2)\n",
    "\n",
    "# loja_tinta\n",
    "# suponha que uma lata pinte 54 metros quadrados\n",
    "# dada a metragem em metros quadrados (inteiro positivo)\n",
    "# retorne quantas latas são necessárias\n",
    "# loja_tinta(54) -> 1\n",
    "# loja_tinta(60) -> 2\n",
    "# loja_tinta(108) -> 2\n",
    "# loja_tinta(109) -> 3\n",
    "def loja_tinta(m):\n",
    "    result = m / 54\n",
    "    if result.is_integer(): return result\n",
    "    else: return int(result) + 1\n",
    "\n",
    "# alunos_problema\n",
    "# temos dois alunos a e b\n",
    "# a_sorri e b_sorri indicam se a e b sorriem\n",
    "# temos problemas quando ambos estão sorrindo ou ambos\n",
    "# não estão sorrindo\n",
    "# retorne True quando houver problemas\n",
    "def alunos_problema(a_sorri, b_sorri):\n",
    "    return a_sorri == b_sorri\n",
    "\n",
    "# papagaio\n",
    "# temos um papagaio que fala alto\n",
    "# hora é um parâmetro entre 0 e 23\n",
    "# temos problemas se o papagaio estiver falando\n",
    "# antes da 7 ou depois das 20\n",
    "def papagaio(falando, hora):\n",
    "    return falando and (hora < 7 or hora > 20)\n",
    "\n",
    "# apaga\n",
    "# seja uma string s e um inteiro n\n",
    "# retorna uma nova string sem a posição n\n",
    "# apaga('kitten', 1) -> 'ktten'\n",
    "# apaga('kitten', 4) -> 'kittn'\n",
    "def apaga(s, n):\n",
    "    return s.replace(s[n], '')\n",
    "\n",
    "# troca\n",
    "# seja uma string s\n",
    "# se s tiver tamanho <= 1 retorna ela mesma\n",
    "# caso contrário troca a primeira e última letra\n",
    "# troca('code') -> 'eodc'\n",
    "# troca('a') -> 'a'\n",
    "# troca('ab') -> 'ba'\n",
    "def troca(s):\n",
    "    return s if len(s) <= 1 else s[-1] + s[1:-1] + s[0]\n",
    "\n",
    "# string_splosion\n",
    "# string_splosion('Code') -> 'CCoCodCode'\n",
    "# string_splosion('abc') -> 'aababc'\n",
    "# string_splosion('ab') -> 'aab'\n",
    "def string_splosion(s):\n",
    "    res = ''\n",
    "    for x in range(len(s)+1):\n",
    "        res += s[:x]\n",
    "    return res\n",
    "\n",
    "# make_tags\n",
    "# make_tags('i', 'Yay'), '<i>Yay</i>'\n",
    "# make_tags('i', 'Hello'), '<i>Hello</i>'\n",
    "# make_tags('cite', 'Yay'), '<cite>Yay</cite>'\n",
    "def make_tags(tag, word):\n",
    "    return f'<{tag}>{word}</{tag}>'\n",
    "\n",
    "# roda2\n",
    "# rodar uma string s duas posições\n",
    "# a string possui pelo menos 2 caracteres\n",
    "# left2('Hello') -> 'lloHe'\n",
    "# left2('Hi') -> 'Hi'\n",
    "def roda2(s):\n",
    "    return s if len(s) <= 2 else s[2:] + s[:2]\n",
    "\n",
    "# date_fashion\n",
    "# você e sua namorada(o) vão a um restaurante\n",
    "# eu e par são as notas das suas roupas de 0 a 10\n",
    "# quanto maior a nota mais chique vocês estão vestidos\n",
    "# o resultado é se vocês conseguiram uma mesa no restaurante:\n",
    "# 0=não 1=talvez e 2=sim\n",
    "# se a nota da roupa de um dos dois for menor ou igual a 2\n",
    "# vocês não terão direito à uma mesa (0)\n",
    "# se as notas são maiores, então caso um dos dois esteja\n",
    "# bem chique (nota >= 8) então a resposta é sim (2)\n",
    "# caso contrário a resposta é talvez (1)\n",
    "# date_fashion(5, 10) -> 2\n",
    "# date_fashion(5, 2) -> 0\n",
    "# date_fashion(5, 5) -> 1\n",
    "def date_fashion(eu, par):\n",
    "    if eu <= 2 or par <= 2: return 0\n",
    "    else:\n",
    "        if eu >= 8 or par >= 8: return 2\n",
    "        else: return 1\n",
    "\n",
    "# squirrel_play\n",
    "# os esquilos na FATEC brincam quando a temperatura está entre 60 e 90\n",
    "# graus Fahreneit (são estrangeiros e o termômetro é diferente rs)\n",
    "# caso seja verão, então a temperatura superior é 100 no lugar de 90\n",
    "# retorne True caso os esquilos brinquem\n",
    "# squirrel_play(70, False) -> True\n",
    "# squirrel_play(95, False) -> False\n",
    "# squirrel_play(95, True) -> True\n",
    "def squirrel_play(temp, is_summer):\n",
    "    if is_summer:\n",
    "        return 60 <= temp <= 100\n",
    "    else:\n",
    "        return 60 <= temp <= 90\n",
    "\n",
    "# pego_correndo\n",
    "# você foi pego correndo\n",
    "# o resultado será:\n",
    "# sem multa = 0\n",
    "# multa média = 1\n",
    "# multa grave = 2\n",
    "# velocide <= 60 sem multa\n",
    "# velocidade entre 61 e 80 multa média\n",
    "# velocidade maior que 81 multa grave (cidade do interior)\n",
    "# caso seja seu aniversário a velocidade pode ser 5 km/h maior em todos os casos\n",
    "# pego_correndo(60, False) -> 0\n",
    "# pego_correndo(65, False) -> 1\n",
    "# pego_correndo(65, True) -> 0 \n",
    "def pego_correndo(speed, is_birthday):\n",
    "    if is_birthday: speed -= 5\n",
    "    if speed <= 60: return 0\n",
    "    elif speed <= 80: return 1\n",
    "    else: return 2\n",
    "\n",
    "# count_code\n",
    "# conta quantas vezes aparece 'code'\n",
    "# a letra 'd' pode ser trocada por outra qualquer\n",
    "# assim 'coxe' ou 'coze' também são contadas como 'code'\n",
    "# count_code('aaacodebbb') -> 1\n",
    "# count_code('codexxcode') -> 2\n",
    "# count_code('cozexxcope') -> 2\n",
    "def count_code(s):\n",
    "    count = 0\n",
    "    for x in range(len(s) - 3):\n",
    "        if s[x:x+2] == 'co' and s[x+3] == 'e':\n",
    "            count += 1\n",
    "    return count\n",
    "\n",
    "# Fila de tijolos sem usar loops\n",
    "# queremos montar uma fila de tijolos de um tamanho denominado meta\n",
    "# temos tijolos pequenos (tamanho 1) e tijolos grandes (tamanho 5)\n",
    "# retorna True se for possível montar a fila de tijolos\n",
    "# programe uma solução sem usar for ou while\n",
    "# fila_tijolos(3, 1, 8) -> True\n",
    "# fila_tijolos(3, 1, 9) -> False\n",
    "# fila_tijolos(3, 2, 10) -> True\n",
    "def fila_tijolos(n_peq, n_gra, meta):\n",
    "    return n_peq >= meta % 5 and n_peq + n_gra * 5 >= meta\n",
    "\n",
    "# busca (COMP 89 IME-USP)\n",
    "# Verifique quantas ocorrências de uma palavra há numa frase\n",
    "# frase = 'ana e mariana gostam de banana'\n",
    "# palavra = 'ana'\n",
    "# busca ('ana e mariana gostam de banana', 'ana') == 4\n",
    "def busca(frase, palavra):\n",
    "    return len([k for k in range(len(frase)) if frase[k:k+len(palavra)] == palavra])\n",
    "\n",
    "# zeros finais\n",
    "# Verifique quantos zeros há no final de um número inteiro positivo\n",
    "# Exemplo: 10010 tem 1 zero no fim e 908007000 possui três\n",
    "# Dica: talvez converter para string torne o exercício mais fácil\n",
    "def zf(n):\n",
    "    n = str(n)[::-1]\n",
    "    k = 0\n",
    "    while n[k] == '0':\n",
    "        k += 1\n",
    "    return k\n",
    "\n",
    "# conta 2\n",
    "# Verifique quantas vezes o dígito 2 aparece entre 0 e n-1\n",
    "# Exemplo: para n = 20 o dígito 2 aparece duas vezes entre 0 e 19\n",
    "def conta2(n):\n",
    "    count = 0\n",
    "    for k in range(n):\n",
    "        for x in str(k):\n",
    "            if x == '2':\n",
    "                count += 1\n",
    "    return count\n",
    "\n",
    "# inicio em potencia de 2\n",
    "# Dado um número inteiro positivo n retorne a primeira potência de 2\n",
    "# que tenha o início igual a n\n",
    "# Exemplo: para n = 65 retornará 16 pois 2**16 = 65536\n",
    "def inip2(n):\n",
    "    k = 0\n",
    "    while True:\n",
    "        pot = str(2**k)\n",
    "        if pot.startswith(str(n)): return k\n",
    "        k += 1\n",
    "    return k\n",
    "\n",
    "# O código abaixo avalia suas questões, favor não alterar ou decodificar\n",
    "from base64 import b64decode\n",
    "code = b'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'\n",
    "eval(compile(b64decode(code), \"<string>\", 'exec'))"
   ]
  },
  {
   "cell_type": "code",
   "execution_count": 11,
   "metadata": {},
   "outputs": [
    {
     "data": {
      "text/plain": [
       "2"
      ]
     },
     "execution_count": 11,
     "metadata": {},
     "output_type": "execute_result"
    }
   ],
   "source": [
    "loja_tinta(60)"
   ]
  },
  {
   "cell_type": "code",
   "execution_count": 17,
   "metadata": {},
   "outputs": [
    {
     "data": {
      "text/plain": [
       "True"
      ]
     },
     "execution_count": 17,
     "metadata": {},
     "output_type": "execute_result"
    }
   ],
   "source": [
    "papagaio(True, 21)"
   ]
  },
  {
   "cell_type": "code",
   "execution_count": 21,
   "metadata": {},
   "outputs": [
    {
     "data": {
      "text/plain": [
       "'ktten'"
      ]
     },
     "execution_count": 21,
     "metadata": {},
     "output_type": "execute_result"
    }
   ],
   "source": [
    "apaga('kitten', 1)"
   ]
  },
  {
   "cell_type": "code",
   "execution_count": 27,
   "metadata": {},
   "outputs": [
    {
     "data": {
      "text/plain": [
       "'CCoCodCode'"
      ]
     },
     "execution_count": 27,
     "metadata": {},
     "output_type": "execute_result"
    }
   ],
   "source": [
    "string_splosion('Code')"
   ]
  },
  {
   "cell_type": "code",
   "execution_count": 37,
   "metadata": {},
   "outputs": [
    {
     "data": {
      "text/plain": [
       "0"
      ]
     },
     "execution_count": 37,
     "metadata": {},
     "output_type": "execute_result"
    }
   ],
   "source": [
    "#pego_correndo(60, False)# -> 0\n",
    "#pego_correndo(65, False)# -> 1\n",
    "pego_correndo(65, True)# -> 0 "
   ]
  },
  {
   "cell_type": "code",
   "execution_count": 50,
   "metadata": {},
   "outputs": [
    {
     "data": {
      "text/plain": [
       "1"
      ]
     },
     "execution_count": 50,
     "metadata": {},
     "output_type": "execute_result"
    }
   ],
   "source": [
    "count_code('aaacodebbb')"
   ]
  },
  {
   "cell_type": "code",
   "execution_count": 49,
   "metadata": {},
   "outputs": [
    {
     "data": {
      "text/plain": [
       "2"
      ]
     },
     "execution_count": 49,
     "metadata": {},
     "output_type": "execute_result"
    }
   ],
   "source": [
    "count_code('codexxcode')"
   ]
  },
  {
   "cell_type": "code",
   "execution_count": 65,
   "metadata": {},
   "outputs": [
    {
     "data": {
      "text/plain": [
       "True"
      ]
     },
     "execution_count": 65,
     "metadata": {},
     "output_type": "execute_result"
    }
   ],
   "source": [
    "#fila_tijolos(3, 1, 8)# -> True\n",
    "#fila_tijolos(3, 1, 9)# -> False\n",
    "fila_tijolos(3, 2, 10)# -> True"
   ]
  },
  {
   "cell_type": "code",
   "execution_count": 80,
   "metadata": {},
   "outputs": [
    {
     "data": {
      "text/plain": [
       "3"
      ]
     },
     "execution_count": 80,
     "metadata": {},
     "output_type": "execute_result"
    }
   ],
   "source": [
    "conta2(21)"
   ]
  }
 ],
 "metadata": {
  "kernelspec": {
   "display_name": "Python 3",
   "language": "python",
   "name": "python3"
  },
  "language_info": {
   "codemirror_mode": {
    "name": "ipython",
    "version": 3
   },
   "file_extension": ".py",
   "mimetype": "text/x-python",
   "name": "python",
   "nbconvert_exporter": "python",
   "pygments_lexer": "ipython3",
   "version": "3.8.3"
  }
 },
 "nbformat": 4,
 "nbformat_minor": 4
}
