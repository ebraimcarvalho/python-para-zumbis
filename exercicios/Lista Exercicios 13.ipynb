{
 "cells": [
  {
   "cell_type": "markdown",
   "metadata": {},
   "source": [
    "# Lista de Exercícios 13\n",
    "*Link do drive completo: https://www.dropbox.com/sh/m9wio7ock77yowd/AAAR3ogXRJqhd5Uw3NthvS0Ia?dl=0*"
   ]
  },
  {
   "cell_type": "code",
   "execution_count": 1,
   "metadata": {},
   "outputs": [
    {
     "name": "stdout",
     "output_type": "stream",
     "text": [
      "fim_igual\n",
      " Ainda não obtido: None esperado: 3\n",
      " Ainda não obtido: None esperado: 2\n",
      " Ainda não obtido: None esperado: 1\n",
      "\n",
      "x_antes\n",
      " Ainda não obtido: None esperado: ['xaa', 'xzz', 'axx', 'bbb', 'ccc']\n",
      " Ainda não obtido: None esperado: ['xaa', 'xcc', 'aaa', 'bbb', 'ccc']\n",
      " Ainda não obtido: None esperado: ['xanadu', 'xyz', 'aardvark', 'apple', 'mix']\n",
      "\n",
      "sort_last\n",
      " Ainda não obtido: None esperado: [(2, 1), (3, 2), (1, 3)]\n",
      " Ainda não obtido: None esperado: [(3, 1), (1, 2), (2, 3)]\n",
      " Ainda não obtido: None esperado: [(2, 2), (1, 3), (3, 4, 5), (1, 7)]\n"
     ]
    }
   ],
   "source": [
    "#!/usr/bin/python -tt\n",
    "# Copyright 2010 Google Inc.\n",
    "# Licensed under the Apache License, Version 2.0\n",
    "# http://www.apache.org/licenses/LICENSE-2.0\n",
    "\n",
    "# Google's Python Class\n",
    "# http://code.google.com/edu/languages/google-python-class/\n",
    "\n",
    "# A. fim_igual\n",
    "# Dada uma lista de strings, retorna o número de strings\n",
    "# com tamanho >= 2 onde o primeiro e o último caracteres são iguais\n",
    "# Exemplo: ['aba', 'xyz', 'aa', 'x', 'bbb'] retorna 3\n",
    "def fim_igual(words):\n",
    "    \n",
    "    return\n",
    "\n",
    "# B. x_antes\n",
    "# Dada uma lista de strings retorna uma lista onde\n",
    "# todos os elementos que começam com x ficam sorteados antes \n",
    "# Ex.: ['mix', 'xyz', 'apple', 'xanadu', 'aardvark'] retorna\n",
    "# ['xanadu', 'xyz', 'aardvark', 'apple', 'mix']\n",
    "# Dica: monte duas listas separadas e junte-as no final\n",
    "def x_antes(words):\n",
    "  return \n",
    "\n",
    "def last(a): #esta def serve para a letra C\n",
    "  return \n",
    "\n",
    "# C. sort_last\n",
    "# Dada uma lista de tuplas não vazias retorna uma tupla ordenada\n",
    "# por ordem crescente do último elemento \n",
    "# Exemplo [(1, 7), (1, 3), (3, 4, 5), (2, 2)] retorna\n",
    "# [(2, 2), (1, 3), (3, 4, 5), (1, 7)]\n",
    "# Dica: use key=função que você definiu e que retorna o último elemento\n",
    "def sort_last(tuples):\n",
    "  return \n",
    "\n",
    "def test(obtido, esperado):\n",
    "  if obtido == esperado:\n",
    "    prefixo = ' Parabéns!'\n",
    "  else:\n",
    "    prefixo = ' Ainda não'\n",
    "  print ('%s obtido: %s esperado: %s' % (prefixo, repr(obtido), repr(esperado)))\n",
    "\n",
    "def main():\n",
    "  print ('fim_igual')\n",
    "  test(fim_igual(['aba', 'xyz', 'aa', 'x', 'bbb']), 3)\n",
    "  test(fim_igual(['', 'x', 'xy', 'xyx', 'xx']), 2)\n",
    "  test(fim_igual(['aaa', 'be', 'abc', 'hello']), 1)\n",
    "\n",
    "  print ()\n",
    "  print ('x_antes')\n",
    "  test(x_antes(['bbb', 'ccc', 'axx', 'xzz', 'xaa']),\n",
    "       ['xaa', 'xzz', 'axx', 'bbb', 'ccc'])\n",
    "  test(x_antes(['ccc', 'bbb', 'aaa', 'xcc', 'xaa']),\n",
    "       ['xaa', 'xcc', 'aaa', 'bbb', 'ccc'])\n",
    "  test(x_antes(['mix', 'xyz', 'apple', 'xanadu', 'aardvark']),\n",
    "       ['xanadu', 'xyz', 'aardvark', 'apple', 'mix'])\n",
    "\n",
    "       \n",
    "  print ()\n",
    "  print ('sort_last')\n",
    "  test(sort_last([(1, 3), (3, 2), (2, 1)]),\n",
    "       [(2, 1), (3, 2), (1, 3)])\n",
    "  test(sort_last([(2, 3), (1, 2), (3, 1)]),\n",
    "       [(3, 1), (1, 2), (2, 3)])\n",
    "  test(sort_last([(1, 7), (1, 3), (3, 4, 5), (2, 2)]),\n",
    "       [(2, 2), (1, 3), (3, 4, 5), (1, 7)])\n",
    "\n",
    "\n",
    "if __name__ == '__main__':\n",
    "  main()"
   ]
  }
 ],
 "metadata": {
  "kernelspec": {
   "display_name": "Python 3",
   "language": "python",
   "name": "python3"
  },
  "language_info": {
   "codemirror_mode": {
    "name": "ipython",
    "version": 3
   },
   "file_extension": ".py",
   "mimetype": "text/x-python",
   "name": "python",
   "nbconvert_exporter": "python",
   "pygments_lexer": "ipython3",
   "version": "3.8.3"
  }
 },
 "nbformat": 4,
 "nbformat_minor": 4
}
