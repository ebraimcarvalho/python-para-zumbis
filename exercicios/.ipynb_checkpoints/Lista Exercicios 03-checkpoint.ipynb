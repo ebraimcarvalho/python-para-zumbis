{
 "cells": [
  {
   "cell_type": "markdown",
   "metadata": {},
   "source": [
    "\n",
    "# Lista de Exercícios 3\n",
    "*Link do drive completo: https://www.dropbox.com/sh/m9wio7ock77yowd/AAAR3ogXRJqhd5Uw3NthvS0Ia?dl=0*"
   ]
  },
  {
   "cell_type": "markdown",
   "metadata": {},
   "source": [
    "### 1) Faça um programa que peça uma nota, entre zero e dez. Mostre uma mensagem caso o valor seja inválido e continue pedindo até que o usuário informe um valor válido."
   ]
  },
  {
   "cell_type": "code",
   "execution_count": 1,
   "metadata": {
    "scrolled": true
   },
   "outputs": [
    {
     "name": "stdout",
     "output_type": "stream",
     "text": [
      "Digite uma nota válida: 55\n",
      "Nota Inválida\n",
      "Digite uma nota válida (de 0 a 10): 5\n",
      "Nota validada: 5.00\n"
     ]
    }
   ],
   "source": [
    "nota = float(input(f'Digite uma nota válida: '))\n",
    "while nota < 0 or nota > 10:\n",
    "    print('Nota Inválida')\n",
    "    nota = float(input(f'Digite uma nota válida (de 0 a 10): '))\n",
    "print(f'Nota validada: {nota:.2f}')"
   ]
  },
  {
   "cell_type": "markdown",
   "metadata": {},
   "source": [
    "### 2) Faça um programa que leia um nome de usuário e a sua senha e não aceite a senha igual ao nome do usuário, mostrando uma mensagem de erro e voltando a pedir as informações."
   ]
  },
  {
   "cell_type": "code",
   "execution_count": 10,
   "metadata": {
    "scrolled": true
   },
   "outputs": [
    {
     "name": "stdout",
     "output_type": "stream",
     "text": [
      "Nome Usuário: ebra\n",
      "Senha: ebra\n",
      "Nome e senha incorretos\n",
      "Nome Usuário: ebra\n",
      "Senha: ebra1\n",
      "Nome e senha validados!\n"
     ]
    }
   ],
   "source": [
    "nome = input('Nome Usuário: ')\n",
    "senha = input('Senha: ')\n",
    "while nome == senha:    \n",
    "    print('Nome e senha incorretos')\n",
    "    nome = input('Nome Usuário: ')\n",
    "    senha = input('Senha: ')\n",
    "print(f'Nome e senha validados!')\n"
   ]
  },
  {
   "cell_type": "markdown",
   "metadata": {},
   "source": [
    "### 3) Supondo que a população de um país A seja da ordem de 80000 habitantes com uma taxa anual de crescimento de 3% e que a população de B seja 200000 habitantes com uma taxa de crescimento de 1.5%. Faça um programa que calcule e escreva o número de anos necessários para que a população do país A ultrapasse ou iguale a população do país B, mantidas as taxas de crescimento.\n"
   ]
  },
  {
   "cell_type": "code",
   "execution_count": 5,
   "metadata": {},
   "outputs": [
    {
     "name": "stdout",
     "output_type": "stream",
     "text": [
      "Serão necessários 63 anos para o País A ultrapassar o País B em população! A: 515033.10 > B: 510964.42\n"
     ]
    }
   ],
   "source": [
    "a = 80000\n",
    "b = 200000\n",
    "anos = 0\n",
    "while a < b:\n",
    "    anos += 1\n",
    "    a = a + (a * 0.03)\n",
    "    b = b + (b * 0.015)\n",
    "print(f'Serão necessários {anos} anos para o País A ultrapassar o País B em população! A: {a:.2f} > B: {b:.2f}')"
   ]
  },
  {
   "cell_type": "markdown",
   "metadata": {},
   "source": [
    "### 4) A seqüência de Fibonacci é a seguinte: 1, 1, 2, 3, 5, 8, 13, 21, 34, 55, ... Sua regra de formação é simples: os dois primeiros elementos são 1; a partir de então, cada elemento é a soma dos dois anteriores. Faça um algoritmo que leia um número inteiro calcule o seu número de Fibonacci. F1 = 1, F2 = 1, F3 = 2, etc."
   ]
  },
  {
   "cell_type": "code",
   "execution_count": 1,
   "metadata": {},
   "outputs": [
    {
     "name": "stdout",
     "output_type": "stream",
     "text": [
      "Digite um numero inteiro: 11\n",
      "O resultado é 89\n"
     ]
    }
   ],
   "source": [
    "a, b = 1, 1\n",
    "i = 1\n",
    "n = int(input('Digite um numero inteiro: '))\n",
    "resultado = 1\n",
    "while i <= n - 2:\n",
    "    a, b = b, a + b\n",
    "    i += 1\n",
    "    resultado = b\n",
    "print(f'O resultado é {resultado}')"
   ]
  },
  {
   "cell_type": "markdown",
   "metadata": {},
   "source": [
    "### 5) Dados dois números inteiros positivos, determinar o máximo divisor comum entre eles usando o algoritmo de Euclides."
   ]
  },
  {
   "cell_type": "code",
   "execution_count": 12,
   "metadata": {},
   "outputs": [
    {
     "name": "stdout",
     "output_type": "stream",
     "text": [
      "Digite um número inteiro positivo: 30\n",
      "Digite um número inteiro positivo: 25\n",
      "O máximo divisor comum entre os números é 5\n"
     ]
    }
   ],
   "source": [
    "n1 = int(input('Digite um número inteiro positivo: '))\n",
    "n2 = int(input('Digite um número inteiro positivo: '))\n",
    "resultado = 0\n",
    "if n1 % n2 == 0:\n",
    "    resultado = n2\n",
    "else:\n",
    "    while n1 % n2 != 0:\n",
    "        n1, n2 = n2, n1 % n2\n",
    "        resultado = n2\n",
    "print(f'O máximo divisor comum entre os números é {resultado}')"
   ]
  }
 ],
 "metadata": {
  "kernelspec": {
   "display_name": "Python 3",
   "language": "python",
   "name": "python3"
  },
  "language_info": {
   "codemirror_mode": {
    "name": "ipython",
    "version": 3
   },
   "file_extension": ".py",
   "mimetype": "text/x-python",
   "name": "python",
   "nbconvert_exporter": "python",
   "pygments_lexer": "ipython3",
   "version": "3.8.3"
  }
 },
 "nbformat": 4,
 "nbformat_minor": 4
}
